{
 "cells": [
  {
   "cell_type": "markdown",
   "id": "b1312bbb",
   "metadata": {},
   "source": [
    "# Sprint 7 Project: Instacart EDA"
   ]
  },
  {
   "cell_type": "markdown",
   "id": "50283113",
   "metadata": {},
   "source": [
    "# Contents <a id='back'></a>\n",
    "\n",
    "* [Introduction](#intro)\n",
    "* [Stage 1. Data overview](#data_review)\n",
    "    * [1.1 instacart_orders.csv](#ic_orders)\n",
    "    * [1.2 products.csv](#products)\n",
    "    * [1.3 order_products.csv](#order_products)\n",
    "    * [1.4 aisles.csv](#aisles)\n",
    "    * [1.5 departments.csv](#departments)\n",
    "    * [1.6 Conclusions](#data_review_conclusions)\n",
    "\n",
    "* [Stage 2. Data preprocessing](#data_preprocessing)\n",
    "    * [2.1 instacart_orders.csv](#prepro_ic) \n",
    "        * [2.1.1 Correcting types](#ic_type)\n",
    "        * [2.1.2 Missing values](#ic_missing_values)\n",
    "        * [2.1.3 Duplicates](#ic_duplicates)\n",
    "        * [2.1.4 Conclusions](#ic_conclusions)\n",
    "    * [2.2 products.csv](#prepro_prod)\n",
    "        * [2.2.1 Correcting types](#prod_type)\n",
    "        * [2.2.2 Missing values](#prod_missing_values)\n",
    "        * [2.2.3 Duplicates](#prod_duplicates)\n",
    "        * [2.2.4 Conclusions](#prod_conclusions)\n",
    "    * [2.3 order_products.csv](#prepro_op)\n",
    "        * [2.3.1 Correcting types](#op_type)\n",
    "        * [2.3.2 Missing values](#op_missing_values)\n",
    "        * [2.3.3 Duplicates](#op_duplicates)\n",
    "        * [2.3.4 Conclusions](#op_conclusions)\n",
    "    * [2.4 aisles.csv](#prepro_aisles)\n",
    "        * [2.4.1 Correcting types](#aisles_type)\n",
    "        * [2.4.2 Duplicates](#aisles_duplicates)\n",
    "        * [2.4.3 Conclusions](#aisles_conclusions)\n",
    "    * [2.5 departments.csv](#prepro_depart)\n",
    "        * [2.5.1 Correcting types](#depart_type)\n",
    "        * [2.5.2 Duplicates](#depart_duplicates)\n",
    "        * [2.5.3 Conclusions](#depart_conclusions)\n",
    "    * [2.6 Conclusions](#data_preprocessing_conclusions)\n",
    "\n",
    "* [Stage 3. Analysis and Visualization](#analysis)\n",
    "    * [3.1 Easy analysis](#easy_analysis)\n",
    "        * [3.1.1 Verify the values](#3_1_1)\n",
    "        * [3.1.2 how many people place orders for each hour of the day?](#3_1_2)\n",
    "        * [3.1.3 what day of the week people shop for groceries?](#3_1_3)\n",
    "        * [3.1.4 How long people wait until placing their next order?](#3_1_4)\n",
    "        * [3.1.5 Conclusions](#easy_conclusions)\n",
    "    * [3.2 Medium analysis](#medium_analysis)\n",
    "        * [3.2.1 'order_hour_of_day' distributions on Wednesdays and Saturdays](#3_2_1)\n",
    "        * [3.2.2 Number of orders per customer](#3_2_2)\n",
    "        * [3.2.3 What are the top 20 products?](#3_2_3)\n",
    "        * [3.2.4 Conclusions](#medium_conclusions)\n",
    "    * [3.3 Hard analysis](#hard_analysis)\n",
    "        * [3.3.1 How many items do people buy in one order?](#3_3_1)\n",
    "        * [3.3.2 What are the top 20 items that are reordered most frequently?](#3_3_2)\n",
    "        * [3.3.3 what proportion of products orders are reorders?](#3_3_3)\n",
    "        * [3.3.4 proportion of products ordered reorders per customer](#3_3_4)\n",
    "        * [3.3.5 What are the top 20 items that people put in their carts first?](#3_3_5)\n",
    "        * [3.3.6 Conclusions](#hard_conclusions)\n",
    "* [3.4 Conclusions](#analysis_conclusions)"
   ]
  },
  {
   "cell_type": "markdown",
   "id": "c1a0f22e",
   "metadata": {},
   "source": [
    "## Introduction <a id=intro></a>\n",
    "\n",
    "This notebook explores customer shopping behavior on the Instacart grocery delivery platform. Working with multiple data tables representing orders, products, and customer information, I'll analyze how customers interact with this grocery delivery service. The goal is to uncover meaningful patterns that could provide business insights and improve the customer experience.\n",
    "The analysis will follow a structured approach: first setting up and exploring the raw data files, then cleaning and preparing the data for analysis, and finally addressing specific stakeholder questions about shopping habits. The findings will help Instacart make more informed business decisions based on actual customer behavior."
   ]
  },
  {
   "cell_type": "code",
   "execution_count": 1,
   "id": "dc79f206",
   "metadata": {},
   "outputs": [],
   "source": [
    "import pandas as pd\n",
    "import numpy as np\n",
    "import calendar as cal\n",
    "import matplotlib.pyplot as plt\n",
    "import seaborn as sns"
   ]
  },
  {
   "cell_type": "markdown",
   "id": "c6f8b7fc",
   "metadata": {},
   "source": [
    "## Stage 1: Data overview <a id=data_review></a>\n",
    "\n"
   ]
  },
  {
   "cell_type": "markdown",
   "id": "da1f4290",
   "metadata": {},
   "source": [
    "### 1.1 instacart_orders.csv <a id=ic_orders></a>"
   ]
  },
  {
   "cell_type": "code",
   "execution_count": 2,
   "id": "e009cf04",
   "metadata": {},
   "outputs": [
    {
     "data": {
      "text/html": [
       "<div>\n",
       "<style scoped>\n",
       "    .dataframe tbody tr th:only-of-type {\n",
       "        vertical-align: middle;\n",
       "    }\n",
       "\n",
       "    .dataframe tbody tr th {\n",
       "        vertical-align: top;\n",
       "    }\n",
       "\n",
       "    .dataframe thead th {\n",
       "        text-align: right;\n",
       "    }\n",
       "</style>\n",
       "<table border=\"1\" class=\"dataframe\">\n",
       "  <thead>\n",
       "    <tr style=\"text-align: right;\">\n",
       "      <th></th>\n",
       "      <th>order_id;user_id;order_number;order_dow;order_hour_of_day;days_since_prior_order</th>\n",
       "    </tr>\n",
       "  </thead>\n",
       "  <tbody>\n",
       "    <tr>\n",
       "      <th>0</th>\n",
       "      <td>1515936;183418;11;6;13;30.0</td>\n",
       "    </tr>\n",
       "    <tr>\n",
       "      <th>1</th>\n",
       "      <td>1690866;163593;5;5;12;9.0</td>\n",
       "    </tr>\n",
       "    <tr>\n",
       "      <th>2</th>\n",
       "      <td>1454967;39980;4;5;19;2.0</td>\n",
       "    </tr>\n",
       "    <tr>\n",
       "      <th>3</th>\n",
       "      <td>1768857;82516;56;0;20;10.0</td>\n",
       "    </tr>\n",
       "    <tr>\n",
       "      <th>4</th>\n",
       "      <td>3007858;196724;2;4;12;17.0</td>\n",
       "    </tr>\n",
       "  </tbody>\n",
       "</table>\n",
       "</div>"
      ],
      "text/plain": [
       "  order_id;user_id;order_number;order_dow;order_hour_of_day;days_since_prior_order\n",
       "0                        1515936;183418;11;6;13;30.0                              \n",
       "1                          1690866;163593;5;5;12;9.0                              \n",
       "2                           1454967;39980;4;5;19;2.0                              \n",
       "3                         1768857;82516;56;0;20;10.0                              \n",
       "4                         3007858;196724;2;4;12;17.0                              "
      ]
     },
     "execution_count": 2,
     "metadata": {},
     "output_type": "execute_result"
    }
   ],
   "source": [
    "ic_orders = pd.read_csv('instacart_orders.csv')\n",
    "ic_orders.head()"
   ]
  },
  {
   "cell_type": "markdown",
   "id": "1da02900",
   "metadata": {},
   "source": [
    "'instacart_orders.csv' uses semi-colons as separators in the file. The pd.read_csv() command should be adjusted."
   ]
  },
  {
   "cell_type": "code",
   "execution_count": 3,
   "id": "9fddc99c",
   "metadata": {},
   "outputs": [
    {
     "data": {
      "text/html": [
       "<div>\n",
       "<style scoped>\n",
       "    .dataframe tbody tr th:only-of-type {\n",
       "        vertical-align: middle;\n",
       "    }\n",
       "\n",
       "    .dataframe tbody tr th {\n",
       "        vertical-align: top;\n",
       "    }\n",
       "\n",
       "    .dataframe thead th {\n",
       "        text-align: right;\n",
       "    }\n",
       "</style>\n",
       "<table border=\"1\" class=\"dataframe\">\n",
       "  <thead>\n",
       "    <tr style=\"text-align: right;\">\n",
       "      <th></th>\n",
       "      <th>order_id</th>\n",
       "      <th>user_id</th>\n",
       "      <th>order_number</th>\n",
       "      <th>order_dow</th>\n",
       "      <th>order_hour_of_day</th>\n",
       "      <th>days_since_prior_order</th>\n",
       "    </tr>\n",
       "  </thead>\n",
       "  <tbody>\n",
       "    <tr>\n",
       "      <th>0</th>\n",
       "      <td>1515936</td>\n",
       "      <td>183418</td>\n",
       "      <td>11</td>\n",
       "      <td>6</td>\n",
       "      <td>13</td>\n",
       "      <td>30.0</td>\n",
       "    </tr>\n",
       "    <tr>\n",
       "      <th>1</th>\n",
       "      <td>1690866</td>\n",
       "      <td>163593</td>\n",
       "      <td>5</td>\n",
       "      <td>5</td>\n",
       "      <td>12</td>\n",
       "      <td>9.0</td>\n",
       "    </tr>\n",
       "    <tr>\n",
       "      <th>2</th>\n",
       "      <td>1454967</td>\n",
       "      <td>39980</td>\n",
       "      <td>4</td>\n",
       "      <td>5</td>\n",
       "      <td>19</td>\n",
       "      <td>2.0</td>\n",
       "    </tr>\n",
       "    <tr>\n",
       "      <th>3</th>\n",
       "      <td>1768857</td>\n",
       "      <td>82516</td>\n",
       "      <td>56</td>\n",
       "      <td>0</td>\n",
       "      <td>20</td>\n",
       "      <td>10.0</td>\n",
       "    </tr>\n",
       "    <tr>\n",
       "      <th>4</th>\n",
       "      <td>3007858</td>\n",
       "      <td>196724</td>\n",
       "      <td>2</td>\n",
       "      <td>4</td>\n",
       "      <td>12</td>\n",
       "      <td>17.0</td>\n",
       "    </tr>\n",
       "  </tbody>\n",
       "</table>\n",
       "</div>"
      ],
      "text/plain": [
       "   order_id  user_id  order_number  order_dow  order_hour_of_day  \\\n",
       "0   1515936   183418            11          6                 13   \n",
       "1   1690866   163593             5          5                 12   \n",
       "2   1454967    39980             4          5                 19   \n",
       "3   1768857    82516            56          0                 20   \n",
       "4   3007858   196724             2          4                 12   \n",
       "\n",
       "   days_since_prior_order  \n",
       "0                    30.0  \n",
       "1                     9.0  \n",
       "2                     2.0  \n",
       "3                    10.0  \n",
       "4                    17.0  "
      ]
     },
     "execution_count": 3,
     "metadata": {},
     "output_type": "execute_result"
    }
   ],
   "source": [
    "ic_orders = pd.read_csv('instacart_orders.csv', sep=';')\n",
    "ic_orders.head()"
   ]
  },
  {
   "cell_type": "code",
   "execution_count": 4,
   "id": "d0c5b034",
   "metadata": {},
   "outputs": [
    {
     "name": "stdout",
     "output_type": "stream",
     "text": [
      "<class 'pandas.core.frame.DataFrame'>\n",
      "RangeIndex: 478967 entries, 0 to 478966\n",
      "Data columns (total 6 columns):\n",
      " #   Column                  Non-Null Count   Dtype  \n",
      "---  ------                  --------------   -----  \n",
      " 0   order_id                478967 non-null  int64  \n",
      " 1   user_id                 478967 non-null  int64  \n",
      " 2   order_number            478967 non-null  int64  \n",
      " 3   order_dow               478967 non-null  int64  \n",
      " 4   order_hour_of_day       478967 non-null  int64  \n",
      " 5   days_since_prior_order  450148 non-null  float64\n",
      "dtypes: float64(1), int64(5)\n",
      "memory usage: 21.9 MB\n"
     ]
    }
   ],
   "source": [
    "ic_orders.info()"
   ]
  },
  {
   "cell_type": "markdown",
   "id": "ba911224",
   "metadata": {},
   "source": [
    "Because all the columns contain digits, pandas read them as ints and a float. In data processing I'll change types (and elaborate on why). <br>\n",
    "Need to check why 'days_since_prior_order' has ~6% null values and if they are consistent.\n",
    "\n",
    "[Back to contents](#back)"
   ]
  },
  {
   "cell_type": "markdown",
   "id": "b18c38e3",
   "metadata": {},
   "source": [
    "### 1.2 products.csv <a id=products></a>"
   ]
  },
  {
   "cell_type": "code",
   "execution_count": 5,
   "id": "b55a29df",
   "metadata": {},
   "outputs": [
    {
     "data": {
      "text/html": [
       "<div>\n",
       "<style scoped>\n",
       "    .dataframe tbody tr th:only-of-type {\n",
       "        vertical-align: middle;\n",
       "    }\n",
       "\n",
       "    .dataframe tbody tr th {\n",
       "        vertical-align: top;\n",
       "    }\n",
       "\n",
       "    .dataframe thead th {\n",
       "        text-align: right;\n",
       "    }\n",
       "</style>\n",
       "<table border=\"1\" class=\"dataframe\">\n",
       "  <thead>\n",
       "    <tr style=\"text-align: right;\">\n",
       "      <th></th>\n",
       "      <th>product_id;product_name;aisle_id;department_id</th>\n",
       "    </tr>\n",
       "  </thead>\n",
       "  <tbody>\n",
       "    <tr>\n",
       "      <th>0</th>\n",
       "      <td>1;Chocolate Sandwich Cookies;61;19</td>\n",
       "    </tr>\n",
       "    <tr>\n",
       "      <th>1</th>\n",
       "      <td>2;All-Seasons Salt;104;13</td>\n",
       "    </tr>\n",
       "    <tr>\n",
       "      <th>2</th>\n",
       "      <td>3;Robust Golden Unsweetened Oolong Tea;94;7</td>\n",
       "    </tr>\n",
       "    <tr>\n",
       "      <th>3</th>\n",
       "      <td>4;Smart Ones Classic Favorites Mini Rigatoni W...</td>\n",
       "    </tr>\n",
       "    <tr>\n",
       "      <th>4</th>\n",
       "      <td>5;Green Chile Anytime Sauce;5;13</td>\n",
       "    </tr>\n",
       "  </tbody>\n",
       "</table>\n",
       "</div>"
      ],
      "text/plain": [
       "      product_id;product_name;aisle_id;department_id\n",
       "0                 1;Chocolate Sandwich Cookies;61;19\n",
       "1                          2;All-Seasons Salt;104;13\n",
       "2        3;Robust Golden Unsweetened Oolong Tea;94;7\n",
       "3  4;Smart Ones Classic Favorites Mini Rigatoni W...\n",
       "4                   5;Green Chile Anytime Sauce;5;13"
      ]
     },
     "execution_count": 5,
     "metadata": {},
     "output_type": "execute_result"
    }
   ],
   "source": [
    "products = pd.read_csv('products.csv')\n",
    "products.head()"
   ]
  },
  {
   "cell_type": "markdown",
   "id": "69ae739e",
   "metadata": {},
   "source": [
    "'products.csv' is also separated by semi-colons."
   ]
  },
  {
   "cell_type": "code",
   "execution_count": 6,
   "id": "b3a7990c",
   "metadata": {},
   "outputs": [
    {
     "data": {
      "text/html": [
       "<div>\n",
       "<style scoped>\n",
       "    .dataframe tbody tr th:only-of-type {\n",
       "        vertical-align: middle;\n",
       "    }\n",
       "\n",
       "    .dataframe tbody tr th {\n",
       "        vertical-align: top;\n",
       "    }\n",
       "\n",
       "    .dataframe thead th {\n",
       "        text-align: right;\n",
       "    }\n",
       "</style>\n",
       "<table border=\"1\" class=\"dataframe\">\n",
       "  <thead>\n",
       "    <tr style=\"text-align: right;\">\n",
       "      <th></th>\n",
       "      <th>product_id</th>\n",
       "      <th>product_name</th>\n",
       "      <th>aisle_id</th>\n",
       "      <th>department_id</th>\n",
       "    </tr>\n",
       "  </thead>\n",
       "  <tbody>\n",
       "    <tr>\n",
       "      <th>0</th>\n",
       "      <td>1</td>\n",
       "      <td>Chocolate Sandwich Cookies</td>\n",
       "      <td>61</td>\n",
       "      <td>19</td>\n",
       "    </tr>\n",
       "    <tr>\n",
       "      <th>1</th>\n",
       "      <td>2</td>\n",
       "      <td>All-Seasons Salt</td>\n",
       "      <td>104</td>\n",
       "      <td>13</td>\n",
       "    </tr>\n",
       "    <tr>\n",
       "      <th>2</th>\n",
       "      <td>3</td>\n",
       "      <td>Robust Golden Unsweetened Oolong Tea</td>\n",
       "      <td>94</td>\n",
       "      <td>7</td>\n",
       "    </tr>\n",
       "    <tr>\n",
       "      <th>3</th>\n",
       "      <td>4</td>\n",
       "      <td>Smart Ones Classic Favorites Mini Rigatoni Wit...</td>\n",
       "      <td>38</td>\n",
       "      <td>1</td>\n",
       "    </tr>\n",
       "    <tr>\n",
       "      <th>4</th>\n",
       "      <td>5</td>\n",
       "      <td>Green Chile Anytime Sauce</td>\n",
       "      <td>5</td>\n",
       "      <td>13</td>\n",
       "    </tr>\n",
       "  </tbody>\n",
       "</table>\n",
       "</div>"
      ],
      "text/plain": [
       "   product_id                                       product_name  aisle_id  \\\n",
       "0           1                         Chocolate Sandwich Cookies        61   \n",
       "1           2                                   All-Seasons Salt       104   \n",
       "2           3               Robust Golden Unsweetened Oolong Tea        94   \n",
       "3           4  Smart Ones Classic Favorites Mini Rigatoni Wit...        38   \n",
       "4           5                          Green Chile Anytime Sauce         5   \n",
       "\n",
       "   department_id  \n",
       "0             19  \n",
       "1             13  \n",
       "2              7  \n",
       "3              1  \n",
       "4             13  "
      ]
     },
     "execution_count": 6,
     "metadata": {},
     "output_type": "execute_result"
    }
   ],
   "source": [
    "products = pd.read_csv('products.csv', sep=';')\n",
    "products.head()"
   ]
  },
  {
   "cell_type": "code",
   "execution_count": 7,
   "id": "4c95bd2a",
   "metadata": {},
   "outputs": [
    {
     "name": "stdout",
     "output_type": "stream",
     "text": [
      "<class 'pandas.core.frame.DataFrame'>\n",
      "RangeIndex: 49694 entries, 0 to 49693\n",
      "Data columns (total 4 columns):\n",
      " #   Column         Non-Null Count  Dtype \n",
      "---  ------         --------------  ----- \n",
      " 0   product_id     49694 non-null  int64 \n",
      " 1   product_name   48436 non-null  object\n",
      " 2   aisle_id       49694 non-null  int64 \n",
      " 3   department_id  49694 non-null  int64 \n",
      "dtypes: int64(3), object(1)\n",
      "memory usage: 1.5+ MB\n"
     ]
    }
   ],
   "source": [
    "products.info()"
   ]
  },
  {
   "cell_type": "markdown",
   "id": "7547e728",
   "metadata": {},
   "source": [
    "Int columns should be re-cast as different types.<br>\n",
    "'product_name' has 3% missing values, but these rows might be beneficial for aisle or department calculations. I will keep them for now.<br>\n",
    "The Index is redundant in this table. 'product_id' should be index\n",
    "\n",
    "[Back to contents](#back)"
   ]
  },
  {
   "cell_type": "markdown",
   "id": "68850952",
   "metadata": {},
   "source": [
    "### 1.3 order_products.csv <a id=order_products></a>"
   ]
  },
  {
   "cell_type": "code",
   "execution_count": 8,
   "id": "6e5ecb0f",
   "metadata": {},
   "outputs": [
    {
     "data": {
      "text/html": [
       "<div>\n",
       "<style scoped>\n",
       "    .dataframe tbody tr th:only-of-type {\n",
       "        vertical-align: middle;\n",
       "    }\n",
       "\n",
       "    .dataframe tbody tr th {\n",
       "        vertical-align: top;\n",
       "    }\n",
       "\n",
       "    .dataframe thead th {\n",
       "        text-align: right;\n",
       "    }\n",
       "</style>\n",
       "<table border=\"1\" class=\"dataframe\">\n",
       "  <thead>\n",
       "    <tr style=\"text-align: right;\">\n",
       "      <th></th>\n",
       "      <th>order_id;product_id;add_to_cart_order;reordered</th>\n",
       "    </tr>\n",
       "  </thead>\n",
       "  <tbody>\n",
       "    <tr>\n",
       "      <th>0</th>\n",
       "      <td>2141543;11440;17.0;0</td>\n",
       "    </tr>\n",
       "    <tr>\n",
       "      <th>1</th>\n",
       "      <td>567889;1560;1.0;1</td>\n",
       "    </tr>\n",
       "    <tr>\n",
       "      <th>2</th>\n",
       "      <td>2261212;26683;1.0;1</td>\n",
       "    </tr>\n",
       "    <tr>\n",
       "      <th>3</th>\n",
       "      <td>491251;8670;35.0;1</td>\n",
       "    </tr>\n",
       "    <tr>\n",
       "      <th>4</th>\n",
       "      <td>2571142;1940;5.0;1</td>\n",
       "    </tr>\n",
       "  </tbody>\n",
       "</table>\n",
       "</div>"
      ],
      "text/plain": [
       "  order_id;product_id;add_to_cart_order;reordered\n",
       "0                            2141543;11440;17.0;0\n",
       "1                               567889;1560;1.0;1\n",
       "2                             2261212;26683;1.0;1\n",
       "3                              491251;8670;35.0;1\n",
       "4                              2571142;1940;5.0;1"
      ]
     },
     "execution_count": 8,
     "metadata": {},
     "output_type": "execute_result"
    }
   ],
   "source": [
    "order_products = pd.read_csv('order_products.csv')\n",
    "order_products.head()"
   ]
  },
  {
   "cell_type": "markdown",
   "id": "32499d74",
   "metadata": {},
   "source": [
    "'order_products.csv' separated with semi-colons."
   ]
  },
  {
   "cell_type": "code",
   "execution_count": 9,
   "id": "746b91b7",
   "metadata": {},
   "outputs": [
    {
     "data": {
      "text/html": [
       "<div>\n",
       "<style scoped>\n",
       "    .dataframe tbody tr th:only-of-type {\n",
       "        vertical-align: middle;\n",
       "    }\n",
       "\n",
       "    .dataframe tbody tr th {\n",
       "        vertical-align: top;\n",
       "    }\n",
       "\n",
       "    .dataframe thead th {\n",
       "        text-align: right;\n",
       "    }\n",
       "</style>\n",
       "<table border=\"1\" class=\"dataframe\">\n",
       "  <thead>\n",
       "    <tr style=\"text-align: right;\">\n",
       "      <th></th>\n",
       "      <th>order_id</th>\n",
       "      <th>product_id</th>\n",
       "      <th>add_to_cart_order</th>\n",
       "      <th>reordered</th>\n",
       "    </tr>\n",
       "  </thead>\n",
       "  <tbody>\n",
       "    <tr>\n",
       "      <th>0</th>\n",
       "      <td>2141543</td>\n",
       "      <td>11440</td>\n",
       "      <td>17.0</td>\n",
       "      <td>0</td>\n",
       "    </tr>\n",
       "    <tr>\n",
       "      <th>1</th>\n",
       "      <td>567889</td>\n",
       "      <td>1560</td>\n",
       "      <td>1.0</td>\n",
       "      <td>1</td>\n",
       "    </tr>\n",
       "    <tr>\n",
       "      <th>2</th>\n",
       "      <td>2261212</td>\n",
       "      <td>26683</td>\n",
       "      <td>1.0</td>\n",
       "      <td>1</td>\n",
       "    </tr>\n",
       "    <tr>\n",
       "      <th>3</th>\n",
       "      <td>491251</td>\n",
       "      <td>8670</td>\n",
       "      <td>35.0</td>\n",
       "      <td>1</td>\n",
       "    </tr>\n",
       "    <tr>\n",
       "      <th>4</th>\n",
       "      <td>2571142</td>\n",
       "      <td>1940</td>\n",
       "      <td>5.0</td>\n",
       "      <td>1</td>\n",
       "    </tr>\n",
       "  </tbody>\n",
       "</table>\n",
       "</div>"
      ],
      "text/plain": [
       "   order_id  product_id  add_to_cart_order  reordered\n",
       "0   2141543       11440               17.0          0\n",
       "1    567889        1560                1.0          1\n",
       "2   2261212       26683                1.0          1\n",
       "3    491251        8670               35.0          1\n",
       "4   2571142        1940                5.0          1"
      ]
     },
     "execution_count": 9,
     "metadata": {},
     "output_type": "execute_result"
    }
   ],
   "source": [
    "order_products = pd.read_csv('order_products.csv', sep=';')\n",
    "order_products.head()"
   ]
  },
  {
   "cell_type": "code",
   "execution_count": 10,
   "id": "80d9f5f9",
   "metadata": {},
   "outputs": [
    {
     "name": "stdout",
     "output_type": "stream",
     "text": [
      "<class 'pandas.core.frame.DataFrame'>\n",
      "RangeIndex: 4545007 entries, 0 to 4545006\n",
      "Data columns (total 4 columns):\n",
      " #   Column             Non-Null Count    Dtype  \n",
      "---  ------             --------------    -----  \n",
      " 0   order_id           4545007 non-null  int64  \n",
      " 1   product_id         4545007 non-null  int64  \n",
      " 2   add_to_cart_order  4544171 non-null  float64\n",
      " 3   reordered          4545007 non-null  int64  \n",
      "dtypes: float64(1), int64(3)\n",
      "memory usage: 138.7 MB\n"
     ]
    }
   ],
   "source": [
    "order_products.info(show_counts=True)"
   ]
  },
  {
   "cell_type": "markdown",
   "id": "fc9d4879",
   "metadata": {},
   "source": [
    "'order_products.csv' has very little missing values in the 'add_to_cart_order'. probably orders of only one items, or first items. <br> \n",
    "Types should be re-cast to protect the data from wrong manipulation. \n",
    "\n",
    "[Back to contents](#back)"
   ]
  },
  {
   "cell_type": "markdown",
   "id": "7a2dceb8",
   "metadata": {},
   "source": [
    "### 1.4 aisles.csv <a id=aisles></a>"
   ]
  },
  {
   "cell_type": "code",
   "execution_count": 11,
   "id": "437764f4",
   "metadata": {},
   "outputs": [
    {
     "data": {
      "text/html": [
       "<div>\n",
       "<style scoped>\n",
       "    .dataframe tbody tr th:only-of-type {\n",
       "        vertical-align: middle;\n",
       "    }\n",
       "\n",
       "    .dataframe tbody tr th {\n",
       "        vertical-align: top;\n",
       "    }\n",
       "\n",
       "    .dataframe thead th {\n",
       "        text-align: right;\n",
       "    }\n",
       "</style>\n",
       "<table border=\"1\" class=\"dataframe\">\n",
       "  <thead>\n",
       "    <tr style=\"text-align: right;\">\n",
       "      <th></th>\n",
       "      <th>aisle_id;aisle</th>\n",
       "    </tr>\n",
       "  </thead>\n",
       "  <tbody>\n",
       "    <tr>\n",
       "      <th>0</th>\n",
       "      <td>1;prepared soups salads</td>\n",
       "    </tr>\n",
       "    <tr>\n",
       "      <th>1</th>\n",
       "      <td>2;specialty cheeses</td>\n",
       "    </tr>\n",
       "    <tr>\n",
       "      <th>2</th>\n",
       "      <td>3;energy granola bars</td>\n",
       "    </tr>\n",
       "    <tr>\n",
       "      <th>3</th>\n",
       "      <td>4;instant foods</td>\n",
       "    </tr>\n",
       "    <tr>\n",
       "      <th>4</th>\n",
       "      <td>5;marinades meat preparation</td>\n",
       "    </tr>\n",
       "  </tbody>\n",
       "</table>\n",
       "</div>"
      ],
      "text/plain": [
       "                 aisle_id;aisle\n",
       "0       1;prepared soups salads\n",
       "1           2;specialty cheeses\n",
       "2         3;energy granola bars\n",
       "3               4;instant foods\n",
       "4  5;marinades meat preparation"
      ]
     },
     "execution_count": 11,
     "metadata": {},
     "output_type": "execute_result"
    }
   ],
   "source": [
    "aisles = pd.read_csv('aisles.csv')\n",
    "aisles.head()"
   ]
  },
  {
   "cell_type": "markdown",
   "id": "321ca004",
   "metadata": {},
   "source": [
    "'aisles.csv' separated with semi-colons."
   ]
  },
  {
   "cell_type": "code",
   "execution_count": 12,
   "id": "aed54a43",
   "metadata": {},
   "outputs": [
    {
     "data": {
      "text/html": [
       "<div>\n",
       "<style scoped>\n",
       "    .dataframe tbody tr th:only-of-type {\n",
       "        vertical-align: middle;\n",
       "    }\n",
       "\n",
       "    .dataframe tbody tr th {\n",
       "        vertical-align: top;\n",
       "    }\n",
       "\n",
       "    .dataframe thead th {\n",
       "        text-align: right;\n",
       "    }\n",
       "</style>\n",
       "<table border=\"1\" class=\"dataframe\">\n",
       "  <thead>\n",
       "    <tr style=\"text-align: right;\">\n",
       "      <th></th>\n",
       "      <th>aisle_id</th>\n",
       "      <th>aisle</th>\n",
       "    </tr>\n",
       "  </thead>\n",
       "  <tbody>\n",
       "    <tr>\n",
       "      <th>0</th>\n",
       "      <td>1</td>\n",
       "      <td>prepared soups salads</td>\n",
       "    </tr>\n",
       "    <tr>\n",
       "      <th>1</th>\n",
       "      <td>2</td>\n",
       "      <td>specialty cheeses</td>\n",
       "    </tr>\n",
       "    <tr>\n",
       "      <th>2</th>\n",
       "      <td>3</td>\n",
       "      <td>energy granola bars</td>\n",
       "    </tr>\n",
       "    <tr>\n",
       "      <th>3</th>\n",
       "      <td>4</td>\n",
       "      <td>instant foods</td>\n",
       "    </tr>\n",
       "    <tr>\n",
       "      <th>4</th>\n",
       "      <td>5</td>\n",
       "      <td>marinades meat preparation</td>\n",
       "    </tr>\n",
       "  </tbody>\n",
       "</table>\n",
       "</div>"
      ],
      "text/plain": [
       "   aisle_id                       aisle\n",
       "0         1       prepared soups salads\n",
       "1         2           specialty cheeses\n",
       "2         3         energy granola bars\n",
       "3         4               instant foods\n",
       "4         5  marinades meat preparation"
      ]
     },
     "execution_count": 12,
     "metadata": {},
     "output_type": "execute_result"
    }
   ],
   "source": [
    "aisles = pd.read_csv('aisles.csv', sep=';')\n",
    "aisles.head()"
   ]
  },
  {
   "cell_type": "code",
   "execution_count": 13,
   "id": "a1431989",
   "metadata": {},
   "outputs": [
    {
     "name": "stdout",
     "output_type": "stream",
     "text": [
      "<class 'pandas.core.frame.DataFrame'>\n",
      "RangeIndex: 134 entries, 0 to 133\n",
      "Data columns (total 2 columns):\n",
      " #   Column    Non-Null Count  Dtype \n",
      "---  ------    --------------  ----- \n",
      " 0   aisle_id  134 non-null    int64 \n",
      " 1   aisle     134 non-null    object\n",
      "dtypes: int64(1), object(1)\n",
      "memory usage: 2.2+ KB\n"
     ]
    }
   ],
   "source": [
    "aisles.info()"
   ]
  },
  {
   "cell_type": "markdown",
   "id": "c73ba378",
   "metadata": {},
   "source": [
    "'aisles.csv' contains no missing values. aisle_id should be re-cast.\n",
    "Having an index on this dataframe is redundant. \n",
    "\n",
    "[Back to contents](#back)"
   ]
  },
  {
   "cell_type": "markdown",
   "id": "15e32ea3",
   "metadata": {},
   "source": [
    "### 1.5 departments.csv <a id=departments></a>"
   ]
  },
  {
   "cell_type": "code",
   "execution_count": 14,
   "id": "cf18659e",
   "metadata": {},
   "outputs": [
    {
     "data": {
      "text/html": [
       "<div>\n",
       "<style scoped>\n",
       "    .dataframe tbody tr th:only-of-type {\n",
       "        vertical-align: middle;\n",
       "    }\n",
       "\n",
       "    .dataframe tbody tr th {\n",
       "        vertical-align: top;\n",
       "    }\n",
       "\n",
       "    .dataframe thead th {\n",
       "        text-align: right;\n",
       "    }\n",
       "</style>\n",
       "<table border=\"1\" class=\"dataframe\">\n",
       "  <thead>\n",
       "    <tr style=\"text-align: right;\">\n",
       "      <th></th>\n",
       "      <th>department_id;department</th>\n",
       "    </tr>\n",
       "  </thead>\n",
       "  <tbody>\n",
       "    <tr>\n",
       "      <th>0</th>\n",
       "      <td>1;frozen</td>\n",
       "    </tr>\n",
       "    <tr>\n",
       "      <th>1</th>\n",
       "      <td>2;other</td>\n",
       "    </tr>\n",
       "    <tr>\n",
       "      <th>2</th>\n",
       "      <td>3;bakery</td>\n",
       "    </tr>\n",
       "    <tr>\n",
       "      <th>3</th>\n",
       "      <td>4;produce</td>\n",
       "    </tr>\n",
       "    <tr>\n",
       "      <th>4</th>\n",
       "      <td>5;alcohol</td>\n",
       "    </tr>\n",
       "  </tbody>\n",
       "</table>\n",
       "</div>"
      ],
      "text/plain": [
       "  department_id;department\n",
       "0                 1;frozen\n",
       "1                  2;other\n",
       "2                 3;bakery\n",
       "3                4;produce\n",
       "4                5;alcohol"
      ]
     },
     "execution_count": 14,
     "metadata": {},
     "output_type": "execute_result"
    }
   ],
   "source": [
    "departments = pd.read_csv('departments.csv')\n",
    "departments.head()"
   ]
  },
  {
   "cell_type": "markdown",
   "id": "53bbfc8c",
   "metadata": {},
   "source": [
    "'departments.csv', like all the other tables, is separated by semi-colons."
   ]
  },
  {
   "cell_type": "code",
   "execution_count": 15,
   "id": "7e3e5982",
   "metadata": {},
   "outputs": [
    {
     "data": {
      "text/html": [
       "<div>\n",
       "<style scoped>\n",
       "    .dataframe tbody tr th:only-of-type {\n",
       "        vertical-align: middle;\n",
       "    }\n",
       "\n",
       "    .dataframe tbody tr th {\n",
       "        vertical-align: top;\n",
       "    }\n",
       "\n",
       "    .dataframe thead th {\n",
       "        text-align: right;\n",
       "    }\n",
       "</style>\n",
       "<table border=\"1\" class=\"dataframe\">\n",
       "  <thead>\n",
       "    <tr style=\"text-align: right;\">\n",
       "      <th></th>\n",
       "      <th>department_id</th>\n",
       "      <th>department</th>\n",
       "    </tr>\n",
       "  </thead>\n",
       "  <tbody>\n",
       "    <tr>\n",
       "      <th>0</th>\n",
       "      <td>1</td>\n",
       "      <td>frozen</td>\n",
       "    </tr>\n",
       "    <tr>\n",
       "      <th>1</th>\n",
       "      <td>2</td>\n",
       "      <td>other</td>\n",
       "    </tr>\n",
       "    <tr>\n",
       "      <th>2</th>\n",
       "      <td>3</td>\n",
       "      <td>bakery</td>\n",
       "    </tr>\n",
       "    <tr>\n",
       "      <th>3</th>\n",
       "      <td>4</td>\n",
       "      <td>produce</td>\n",
       "    </tr>\n",
       "    <tr>\n",
       "      <th>4</th>\n",
       "      <td>5</td>\n",
       "      <td>alcohol</td>\n",
       "    </tr>\n",
       "  </tbody>\n",
       "</table>\n",
       "</div>"
      ],
      "text/plain": [
       "   department_id department\n",
       "0              1     frozen\n",
       "1              2      other\n",
       "2              3     bakery\n",
       "3              4    produce\n",
       "4              5    alcohol"
      ]
     },
     "execution_count": 15,
     "metadata": {},
     "output_type": "execute_result"
    }
   ],
   "source": [
    "departments = pd.read_csv('departments.csv', sep=';')\n",
    "departments.head()"
   ]
  },
  {
   "cell_type": "code",
   "execution_count": 16,
   "id": "c8bc0ccd",
   "metadata": {},
   "outputs": [
    {
     "name": "stdout",
     "output_type": "stream",
     "text": [
      "<class 'pandas.core.frame.DataFrame'>\n",
      "RangeIndex: 21 entries, 0 to 20\n",
      "Data columns (total 2 columns):\n",
      " #   Column         Non-Null Count  Dtype \n",
      "---  ------         --------------  ----- \n",
      " 0   department_id  21 non-null     int64 \n",
      " 1   department     21 non-null     object\n",
      "dtypes: int64(1), object(1)\n",
      "memory usage: 468.0+ bytes\n"
     ]
    }
   ],
   "source": [
    "departments.info()"
   ]
  },
  {
   "cell_type": "markdown",
   "id": "a62f5969",
   "metadata": {},
   "source": [
    "Like in 'aisles.csv', 'departments.csv' contains no nulls, and have a redundant automatic index.\n",
    "\n",
    "[Back to contents](#back)"
   ]
  },
  {
   "cell_type": "markdown",
   "id": "fd56b77c",
   "metadata": {},
   "source": [
    "### 1.6 conclusions <a id=#data_review_conclusions></a>"
   ]
  },
  {
   "cell_type": "markdown",
   "id": "25eddeed",
   "metadata": {},
   "source": [
    "All the tables of this project were formatted using semi-colons. This should be mentioned in the enrolling documentation so to spare us doing all the reading twice.<br>\n",
    "All the tables contain ID-columns and categories that should be re-casted to protect the data from wrong manipulations. <br>\n",
    "'instacart_oreders.csv' and 'order_products.csv' have easy-to-explain nulls that should be verified. 'products.csv' has missing values in the 'product_name' column. Need to report that to the DB administer. Decision about dropping the rows with missing product names will depend on the analysis requested by the stakeholders. \n",
    "\n",
    "[Back to contents](#back)"
   ]
  },
  {
   "cell_type": "markdown",
   "id": "c538ab31",
   "metadata": {},
   "source": [
    "## Stage 2: Data processing <a id=data_processing></a>"
   ]
  },
  {
   "cell_type": "markdown",
   "id": "065909a8",
   "metadata": {},
   "source": [
    "### 2.1 instacart_orders.csv <a id=prepro_ic></a>"
   ]
  },
  {
   "cell_type": "markdown",
   "id": "7acae4db",
   "metadata": {},
   "source": [
    "#### 2.1.1 Correcting types <a id=ic_type></a>"
   ]
  },
  {
   "cell_type": "code",
   "execution_count": 17,
   "id": "38542019",
   "metadata": {},
   "outputs": [],
   "source": [
    "# re-casting 'order_id', 'user_id', 'order_number' as objects:\n",
    "ic_orders['order_id'] = ic_orders['order_id'].astype('object')\n",
    "ic_orders['user_id'] = ic_orders['user_id'].astype('object')\n",
    "ic_orders['order_number'] = ic_orders['order_number'].astype('object')"
   ]
  },
  {
   "cell_type": "code",
   "execution_count": 18,
   "id": "cd8ba71c",
   "metadata": {},
   "outputs": [],
   "source": [
    "# translating 'order_dow' numeric values to names:\n",
    "def name_day(i):\n",
    "    return cal.day_name[i]\n",
    "\n",
    "ic_orders['order_dow'] = ic_orders['order_dow'].apply(name_day)"
   ]
  },
  {
   "cell_type": "code",
   "execution_count": 19,
   "id": "e730e475",
   "metadata": {},
   "outputs": [],
   "source": [
    "# re-casting 'order_dow' and 'order_hour_of_day' as categorical:\n",
    "ic_orders['order_dow'] = ic_orders['order_dow'].astype('category')\n",
    "ic_orders['order_hour_of_day'] = ic_orders['order_hour_of_day'].astype('category')"
   ]
  },
  {
   "cell_type": "code",
   "execution_count": 20,
   "id": "054fc5bb",
   "metadata": {},
   "outputs": [
    {
     "name": "stdout",
     "output_type": "stream",
     "text": [
      "116079     9.0\n",
      "286985     5.0\n",
      "277974     2.0\n",
      "235768     5.0\n",
      "268026     2.0\n",
      "44799      6.0\n",
      "40841     29.0\n",
      "464387     NaN\n",
      "412739    22.0\n",
      "138928    16.0\n",
      "Name: days_since_prior_order, dtype: float64\n"
     ]
    },
    {
     "data": {
      "text/plain": [
       "True"
      ]
     },
     "execution_count": 20,
     "metadata": {},
     "output_type": "execute_result"
    }
   ],
   "source": [
    "# checking if 'days_since_prior_order' can be turned to int:\n",
    "print(ic_orders['days_since_prior_order'].sample(10))\n",
    "np.array_equal(ic_orders['days_since_prior_order'].dropna(), ic_orders['days_since_prior_order'].dropna().astype('int'))"
   ]
  },
  {
   "cell_type": "code",
   "execution_count": 21,
   "id": "bc81352c",
   "metadata": {},
   "outputs": [
    {
     "name": "stdout",
     "output_type": "stream",
     "text": [
      "<class 'pandas.core.frame.DataFrame'>\n",
      "RangeIndex: 478967 entries, 0 to 478966\n",
      "Data columns (total 6 columns):\n",
      " #   Column                  Non-Null Count   Dtype   \n",
      "---  ------                  --------------   -----   \n",
      " 0   order_id                478967 non-null  object  \n",
      " 1   user_id                 478967 non-null  object  \n",
      " 2   order_number            478967 non-null  object  \n",
      " 3   order_dow               478967 non-null  category\n",
      " 4   order_hour_of_day       478967 non-null  category\n",
      " 5   days_since_prior_order  450148 non-null  float64 \n",
      "dtypes: category(2), float64(1), object(3)\n",
      "memory usage: 15.5+ MB\n"
     ]
    }
   ],
   "source": [
    "ic_orders.info()"
   ]
  },
  {
   "cell_type": "markdown",
   "id": "a2351ff4",
   "metadata": {},
   "source": [
    "Because 'order_id', 'user_id' and 'order_number' represent ID numbers and not real numbers, I changed their type to 'object' to prevent irrelevant calculations being performed on them. <br>\n",
    "Because 'order_dow' and 'order_hour_of_day' represent a part of a timestamp (not given), I changed their type to 'category' to enable referencing them as categorical values, but to prevent arithmetical calculations. After consulting, I used calendar.day_name to translate the numeric values to day names. <br>\n",
    "'days_since_prior_order' should be examined after dealing with missing values. if the missing values can be replaced with '0', column can be changed to 'int' type. no data is lost in the conversion.  \n",
    "\n",
    "[Back to contents](#back)"
   ]
  },
  {
   "cell_type": "markdown",
   "id": "0d7e574a",
   "metadata": {},
   "source": [
    "#### 2.1.2 Missing values <a id=ic_missing_values></a>"
   ]
  },
  {
   "cell_type": "code",
   "execution_count": 22,
   "id": "57071a31",
   "metadata": {},
   "outputs": [
    {
     "data": {
      "text/html": [
       "<div>\n",
       "<style scoped>\n",
       "    .dataframe tbody tr th:only-of-type {\n",
       "        vertical-align: middle;\n",
       "    }\n",
       "\n",
       "    .dataframe tbody tr th {\n",
       "        vertical-align: top;\n",
       "    }\n",
       "\n",
       "    .dataframe thead th {\n",
       "        text-align: right;\n",
       "    }\n",
       "</style>\n",
       "<table border=\"1\" class=\"dataframe\">\n",
       "  <thead>\n",
       "    <tr style=\"text-align: right;\">\n",
       "      <th></th>\n",
       "      <th>order_id</th>\n",
       "      <th>user_id</th>\n",
       "      <th>order_number</th>\n",
       "      <th>order_dow</th>\n",
       "      <th>order_hour_of_day</th>\n",
       "      <th>days_since_prior_order</th>\n",
       "    </tr>\n",
       "  </thead>\n",
       "  <tbody>\n",
       "    <tr>\n",
       "      <th>28</th>\n",
       "      <td>133707</td>\n",
       "      <td>182261</td>\n",
       "      <td>1</td>\n",
       "      <td>Thursday</td>\n",
       "      <td>10</td>\n",
       "      <td>NaN</td>\n",
       "    </tr>\n",
       "    <tr>\n",
       "      <th>96</th>\n",
       "      <td>787445</td>\n",
       "      <td>25685</td>\n",
       "      <td>1</td>\n",
       "      <td>Sunday</td>\n",
       "      <td>18</td>\n",
       "      <td>NaN</td>\n",
       "    </tr>\n",
       "    <tr>\n",
       "      <th>100</th>\n",
       "      <td>294410</td>\n",
       "      <td>111449</td>\n",
       "      <td>1</td>\n",
       "      <td>Monday</td>\n",
       "      <td>19</td>\n",
       "      <td>NaN</td>\n",
       "    </tr>\n",
       "    <tr>\n",
       "      <th>103</th>\n",
       "      <td>2869915</td>\n",
       "      <td>123958</td>\n",
       "      <td>1</td>\n",
       "      <td>Friday</td>\n",
       "      <td>16</td>\n",
       "      <td>NaN</td>\n",
       "    </tr>\n",
       "    <tr>\n",
       "      <th>104</th>\n",
       "      <td>2521921</td>\n",
       "      <td>42286</td>\n",
       "      <td>1</td>\n",
       "      <td>Thursday</td>\n",
       "      <td>18</td>\n",
       "      <td>NaN</td>\n",
       "    </tr>\n",
       "  </tbody>\n",
       "</table>\n",
       "</div>"
      ],
      "text/plain": [
       "    order_id user_id order_number order_dow order_hour_of_day  \\\n",
       "28    133707  182261            1  Thursday                10   \n",
       "96    787445   25685            1    Sunday                18   \n",
       "100   294410  111449            1    Monday                19   \n",
       "103  2869915  123958            1    Friday                16   \n",
       "104  2521921   42286            1  Thursday                18   \n",
       "\n",
       "     days_since_prior_order  \n",
       "28                      NaN  \n",
       "96                      NaN  \n",
       "100                     NaN  \n",
       "103                     NaN  \n",
       "104                     NaN  "
      ]
     },
     "execution_count": 22,
     "metadata": {},
     "output_type": "execute_result"
    }
   ],
   "source": [
    "ic_missing_rows = ic_orders[ic_orders['days_since_prior_order'].isna()]\n",
    "ic_missing_rows.head()"
   ]
  },
  {
   "cell_type": "code",
   "execution_count": 23,
   "id": "88d0dbe1",
   "metadata": {},
   "outputs": [
    {
     "name": "stdout",
     "output_type": "stream",
     "text": [
      "order_number\n",
      "1      28819\n",
      "4      28704\n",
      "3      28686\n",
      "2      28633\n",
      "5      25661\n",
      "       ...  \n",
      "97       221\n",
      "96       220\n",
      "100      194\n",
      "98       191\n",
      "99       169\n",
      "Name: count, Length: 100, dtype: int64\n",
      "\n",
      "order_number\n",
      "1    28819\n",
      "Name: count, dtype: int64\n",
      "\n",
      "The tables are identical\n"
     ]
    }
   ],
   "source": [
    "# checking if all the missing rows are first orders:\n",
    "print(ic_orders['order_number'].value_counts())\n",
    "print()\n",
    "print(ic_missing_rows['order_number'].value_counts())\n",
    "print()\n",
    "first_order = ic_missing_rows[ic_missing_rows['order_number']==1]\n",
    "if ic_missing_rows.size == first_order.size:\n",
    "    print('The tables are identical')\n",
    "else:\n",
    "    print('tables are not identical')"
   ]
  },
  {
   "cell_type": "code",
   "execution_count": 24,
   "id": "7fdca302",
   "metadata": {},
   "outputs": [
    {
     "name": "stdout",
     "output_type": "stream",
     "text": [
      "<class 'pandas.core.frame.DataFrame'>\n",
      "RangeIndex: 478967 entries, 0 to 478966\n",
      "Data columns (total 6 columns):\n",
      " #   Column                  Non-Null Count   Dtype   \n",
      "---  ------                  --------------   -----   \n",
      " 0   order_id                478967 non-null  object  \n",
      " 1   user_id                 478967 non-null  object  \n",
      " 2   order_number            478967 non-null  object  \n",
      " 3   order_dow               478967 non-null  category\n",
      " 4   order_hour_of_day       478967 non-null  category\n",
      " 5   days_since_prior_order  478967 non-null  int64   \n",
      "dtypes: category(2), int64(1), object(3)\n",
      "memory usage: 15.5+ MB\n"
     ]
    }
   ],
   "source": [
    "# replacing 'days_since_prior_order' nulls with 0 and re-casting the column as 'int64'\n",
    "ic_orders['days_since_prior_order'] = ic_orders['days_since_prior_order'].fillna(0).astype('int64')\n",
    "ic_orders.info()"
   ]
  },
  {
   "cell_type": "markdown",
   "id": "27bc827c",
   "metadata": {},
   "source": [
    "since all the nulls in the column are associated with first orders of the users, I replaced the NaN's with 0, and cast the column as 'int' because there is no record of parts of day or information in floats. \n",
    "\n",
    "[Back to contents](#back)"
   ]
  },
  {
   "cell_type": "markdown",
   "id": "55e7694d",
   "metadata": {},
   "source": [
    "#### 2.1.3 Duplicates <a id=ic_duplicates></a>"
   ]
  },
  {
   "cell_type": "code",
   "execution_count": 25,
   "id": "9c68bcbc",
   "metadata": {},
   "outputs": [
    {
     "data": {
      "text/plain": [
       "False    478952\n",
       "True         15\n",
       "Name: count, dtype: int64"
      ]
     },
     "execution_count": 25,
     "metadata": {},
     "output_type": "execute_result"
    }
   ],
   "source": [
    "# checking for obvious duplicates:\n",
    "ic_orders.duplicated().value_counts()"
   ]
  },
  {
   "cell_type": "code",
   "execution_count": 26,
   "id": "5a53ed3b",
   "metadata": {},
   "outputs": [
    {
     "data": {
      "text/plain": [
       "False    478952\n",
       "Name: count, dtype: int64"
      ]
     },
     "execution_count": 26,
     "metadata": {},
     "output_type": "execute_result"
    }
   ],
   "source": [
    "ic_orders = ic_orders.drop_duplicates(ignore_index=True)\n",
    "ic_orders.duplicated().value_counts()"
   ]
  },
  {
   "cell_type": "markdown",
   "id": "576b1e2d",
   "metadata": {},
   "source": [
    "I checked and cleaned 15 obvious duplicates from the dataframe. <br>\n",
    "This dataframe contains no columns that are prone to different spellings or obvious typos, and so there is no use in searching for implicit duplicates.\n",
    "\n",
    "[Back to contents](#back)"
   ]
  },
  {
   "cell_type": "markdown",
   "id": "e356ae53",
   "metadata": {},
   "source": [
    "#### 2.1.4 Conclusions <a id=ic_conclusions></a>"
   ]
  },
  {
   "cell_type": "markdown",
   "id": "be48ca12",
   "metadata": {},
   "source": [
    "Columns representing ID's were changed to 'object' dtype to prevent irrelevant calculations being performed on them. <br>\n",
    "'order_dow' changed from numeric to names. 'order_dow' and 'order_hour_of_day' changed dtype to 'category' to enable referencing them as categorical values, but to prevent arithmetical calculations. <br> \n",
    "In 'days_since_prior_order' all NaN's replaced with 0. Column was cast as 'int' because there is no record of parts of day or information in floats. <br> \n",
    "Obvious duplicates were dropped from the dataframe. <br>\n",
    "This dataframe contains no columns that are prone to different spellings or obvious typos so I did'nt search for implicit duplicates.\n",
    "\n",
    "[Back to contents](#back)"
   ]
  },
  {
   "cell_type": "markdown",
   "id": "bef50cb8",
   "metadata": {},
   "source": [
    "### 2.2 products.csv <a id=prepro_prod></a>"
   ]
  },
  {
   "cell_type": "markdown",
   "id": "f1e346bd",
   "metadata": {},
   "source": [
    "#### 2.2.1 Correcting types <a id=prod_type></a>"
   ]
  },
  {
   "cell_type": "code",
   "execution_count": 27,
   "id": "df94dbfa",
   "metadata": {},
   "outputs": [],
   "source": [
    "# re-casting 'product_id' as 'object':\n",
    "products['product_id'] = products['product_id'].astype('object')"
   ]
  },
  {
   "cell_type": "code",
   "execution_count": 28,
   "id": "0e9506c5",
   "metadata": {},
   "outputs": [],
   "source": [
    "# re casting 'aisle_id' and 'department_id' as 'category':\n",
    "products['aisle_id'] = products['aisle_id'].astype('category')\n",
    "products['department_id'] = products['department_id'].astype('category')"
   ]
  },
  {
   "cell_type": "code",
   "execution_count": 29,
   "id": "a0ddcc74",
   "metadata": {},
   "outputs": [
    {
     "name": "stdout",
     "output_type": "stream",
     "text": [
      "<class 'pandas.core.frame.DataFrame'>\n",
      "RangeIndex: 49694 entries, 0 to 49693\n",
      "Data columns (total 4 columns):\n",
      " #   Column         Non-Null Count  Dtype   \n",
      "---  ------         --------------  -----   \n",
      " 0   product_id     49694 non-null  object  \n",
      " 1   product_name   48436 non-null  object  \n",
      " 2   aisle_id       49694 non-null  category\n",
      " 3   department_id  49694 non-null  category\n",
      "dtypes: category(2), object(2)\n",
      "memory usage: 928.0+ KB\n"
     ]
    }
   ],
   "source": [
    "products.info()"
   ]
  },
  {
   "cell_type": "markdown",
   "id": "df3d9e44",
   "metadata": {},
   "source": [
    "'product_id' represents ID numbers. I re-cast the column as 'object' to prevent calculations with the data and set it as index. <br>\n",
    "'aisle_id' and 'department_id' were changed to 'category' to facilitate needed manipulations.\n",
    "\n",
    "[Back to contents](#back)"
   ]
  },
  {
   "cell_type": "markdown",
   "id": "bc0bf49c",
   "metadata": {},
   "source": [
    "#### 2.2.2 Missing values <a id=prod_missing_values></a>"
   ]
  },
  {
   "cell_type": "code",
   "execution_count": 30,
   "id": "859f9871",
   "metadata": {},
   "outputs": [
    {
     "name": "stdout",
     "output_type": "stream",
     "text": [
      "      product_id product_name aisle_id department_id\n",
      "35281      35282          NaN      100            21\n",
      "14590      14591          NaN      100            21\n",
      "35483      35484          NaN      100            21\n",
      "21181      21182          NaN      100            21\n",
      "44363      44364          NaN      100            21\n",
      "43506      43507          NaN      100            21\n",
      "47322      47323          NaN      100            21\n",
      "10947      10948          NaN      100            21\n",
      "25657      25658          NaN      100            21\n",
      "17495      17496          NaN      100            21\n",
      "\n",
      "<class 'pandas.core.frame.DataFrame'>\n",
      "Index: 0 entries\n",
      "Data columns (total 4 columns):\n",
      " #   Column         Non-Null Count  Dtype   \n",
      "---  ------         --------------  -----   \n",
      " 0   product_id     0 non-null      object  \n",
      " 1   product_name   0 non-null      object  \n",
      " 2   aisle_id       0 non-null      category\n",
      " 3   department_id  0 non-null      category\n",
      "dtypes: category(2), object(2)\n",
      "memory usage: 5.8+ KB\n"
     ]
    }
   ],
   "source": [
    "prod_missing_rows = products[products['product_name'].isna()]\n",
    "print(prod_missing_rows.sample(10, random_state=123))\n",
    "print()\n",
    "check1 = prod_missing_rows[(prod_missing_rows['aisle_id']!=100)]\n",
    "check1.info()"
   ]
  },
  {
   "cell_type": "code",
   "execution_count": 31,
   "id": "67d1d6b5",
   "metadata": {},
   "outputs": [
    {
     "name": "stdout",
     "output_type": "stream",
     "text": [
      "    aisle_id    aisle\n",
      "99       100  missing\n",
      "\n",
      "    department_id department\n",
      "20             21    missing\n"
     ]
    }
   ],
   "source": [
    "print(aisles[aisles['aisle_id']==100])\n",
    "print()\n",
    "print(departments[departments['department_id']==21])"
   ]
  },
  {
   "cell_type": "code",
   "execution_count": 32,
   "id": "7a7e600d",
   "metadata": {},
   "outputs": [
    {
     "name": "stdout",
     "output_type": "stream",
     "text": [
      "<class 'pandas.core.frame.DataFrame'>\n",
      "Index: 1258 entries, 37 to 49668\n",
      "Data columns (total 4 columns):\n",
      " #   Column         Non-Null Count  Dtype   \n",
      "---  ------         --------------  -----   \n",
      " 0   product_id     1258 non-null   object  \n",
      " 1   product_name   0 non-null      object  \n",
      " 2   aisle_id       1258 non-null   category\n",
      " 3   department_id  1258 non-null   category\n",
      "dtypes: category(2), object(2)\n",
      "memory usage: 39.0+ KB\n",
      "None\n",
      "\n",
      "        product_id product_name  aisle_id  department_id\n",
      "count         1258            0      1258           1258\n",
      "unique        1258            0         1              1\n",
      "top             38          NaN       100             21\n",
      "freq             1          NaN      1258           1258\n",
      "\n"
     ]
    },
    {
     "data": {
      "text/html": [
       "<div>\n",
       "<style scoped>\n",
       "    .dataframe tbody tr th:only-of-type {\n",
       "        vertical-align: middle;\n",
       "    }\n",
       "\n",
       "    .dataframe tbody tr th {\n",
       "        vertical-align: top;\n",
       "    }\n",
       "\n",
       "    .dataframe thead th {\n",
       "        text-align: right;\n",
       "    }\n",
       "</style>\n",
       "<table border=\"1\" class=\"dataframe\">\n",
       "  <thead>\n",
       "    <tr style=\"text-align: right;\">\n",
       "      <th></th>\n",
       "      <th>product_id</th>\n",
       "      <th>product_name</th>\n",
       "      <th>aisle_id</th>\n",
       "      <th>department_id</th>\n",
       "    </tr>\n",
       "  </thead>\n",
       "  <tbody>\n",
       "    <tr>\n",
       "      <th>40795</th>\n",
       "      <td>40796</td>\n",
       "      <td>NaN</td>\n",
       "      <td>100</td>\n",
       "      <td>21</td>\n",
       "    </tr>\n",
       "    <tr>\n",
       "      <th>4649</th>\n",
       "      <td>4650</td>\n",
       "      <td>NaN</td>\n",
       "      <td>100</td>\n",
       "      <td>21</td>\n",
       "    </tr>\n",
       "    <tr>\n",
       "      <th>40716</th>\n",
       "      <td>40717</td>\n",
       "      <td>NaN</td>\n",
       "      <td>100</td>\n",
       "      <td>21</td>\n",
       "    </tr>\n",
       "    <tr>\n",
       "      <th>33640</th>\n",
       "      <td>33641</td>\n",
       "      <td>NaN</td>\n",
       "      <td>100</td>\n",
       "      <td>21</td>\n",
       "    </tr>\n",
       "    <tr>\n",
       "      <th>25401</th>\n",
       "      <td>25402</td>\n",
       "      <td>NaN</td>\n",
       "      <td>100</td>\n",
       "      <td>21</td>\n",
       "    </tr>\n",
       "    <tr>\n",
       "      <th>32553</th>\n",
       "      <td>32554</td>\n",
       "      <td>NaN</td>\n",
       "      <td>100</td>\n",
       "      <td>21</td>\n",
       "    </tr>\n",
       "    <tr>\n",
       "      <th>45513</th>\n",
       "      <td>45514</td>\n",
       "      <td>NaN</td>\n",
       "      <td>100</td>\n",
       "      <td>21</td>\n",
       "    </tr>\n",
       "    <tr>\n",
       "      <th>38498</th>\n",
       "      <td>38499</td>\n",
       "      <td>NaN</td>\n",
       "      <td>100</td>\n",
       "      <td>21</td>\n",
       "    </tr>\n",
       "    <tr>\n",
       "      <th>25662</th>\n",
       "      <td>25663</td>\n",
       "      <td>NaN</td>\n",
       "      <td>100</td>\n",
       "      <td>21</td>\n",
       "    </tr>\n",
       "    <tr>\n",
       "      <th>47997</th>\n",
       "      <td>47998</td>\n",
       "      <td>NaN</td>\n",
       "      <td>100</td>\n",
       "      <td>21</td>\n",
       "    </tr>\n",
       "  </tbody>\n",
       "</table>\n",
       "</div>"
      ],
      "text/plain": [
       "      product_id product_name aisle_id department_id\n",
       "40795      40796          NaN      100            21\n",
       "4649        4650          NaN      100            21\n",
       "40716      40717          NaN      100            21\n",
       "33640      33641          NaN      100            21\n",
       "25401      25402          NaN      100            21\n",
       "32553      32554          NaN      100            21\n",
       "45513      45514          NaN      100            21\n",
       "38498      38499          NaN      100            21\n",
       "25662      25663          NaN      100            21\n",
       "47997      47998          NaN      100            21"
      ]
     },
     "execution_count": 32,
     "metadata": {},
     "output_type": "execute_result"
    }
   ],
   "source": [
    "check2 = prod_missing_rows.query(\"product_id in @products.product_id\")\n",
    "print(check2.info())\n",
    "print()\n",
    "print(check2.describe())\n",
    "print()\n",
    "check2.sample(10)"
   ]
  },
  {
   "cell_type": "code",
   "execution_count": 33,
   "id": "3245a6b1",
   "metadata": {},
   "outputs": [
    {
     "name": "stdout",
     "output_type": "stream",
     "text": [
      "<class 'pandas.core.frame.DataFrame'>\n",
      "Index: 48436 entries, 0 to 49693\n",
      "Data columns (total 4 columns):\n",
      " #   Column         Non-Null Count  Dtype   \n",
      "---  ------         --------------  -----   \n",
      " 0   product_id     48436 non-null  object  \n",
      " 1   product_name   48436 non-null  object  \n",
      " 2   aisle_id       48436 non-null  category\n",
      " 3   department_id  48436 non-null  category\n",
      "dtypes: category(2), object(2)\n",
      "memory usage: 1.3+ MB\n"
     ]
    }
   ],
   "source": [
    "products = products.dropna()\n",
    "products.info()"
   ]
  },
  {
   "cell_type": "markdown",
   "id": "1fd9a577",
   "metadata": {},
   "source": [
    "Upon checking the rows with missing product names: their ID's only show up once in the dataframe, have NaN for 'product_name', and all assigned 'aisle_id' 100 and 'department_id' 21, both named \"missing\". I cannot reconstruct what these products are or where do they belong, and so can be dropped from the dataframe. <br>\n",
    "These items could be discontinued products that are left blank to not interrupt the 'product_id' columns. <br>\n",
    "because of the dropped rows, i will not re-assign the 'product_id' column as index, for it is not consecutive any more.\n",
    "\n",
    "[Back to contents](#back)"
   ]
  },
  {
   "cell_type": "markdown",
   "id": "61aaaeb9",
   "metadata": {},
   "source": [
    "#### 2.2.3 Duplicates <a id=prod_duplicates></a>"
   ]
  },
  {
   "cell_type": "code",
   "execution_count": 34,
   "id": "437097dc",
   "metadata": {},
   "outputs": [
    {
     "name": "stdout",
     "output_type": "stream",
     "text": [
      "False    48436\n",
      "Name: count, dtype: int64\n"
     ]
    },
    {
     "data": {
      "text/plain": [
       "48436"
      ]
     },
     "execution_count": 34,
     "metadata": {},
     "output_type": "execute_result"
    }
   ],
   "source": [
    "# checking for obvious duplicates:\n",
    "print(products.duplicated().value_counts())\n",
    "products['product_id'].nunique()"
   ]
  },
  {
   "cell_type": "markdown",
   "id": "61927233",
   "metadata": {},
   "source": [
    "The dataframe has no obvious duplicates. After checking that all 'product_id' values are unique values, I fear no implicit duplicates as it is un-logical to have the same exact item listed under 2 ID's. \n",
    "\n",
    "[Back to contents](#back)"
   ]
  },
  {
   "cell_type": "markdown",
   "id": "490d34b2",
   "metadata": {},
   "source": [
    "#### 2.2.4 Conclusions <a id=prod_coclusions></a>"
   ]
  },
  {
   "cell_type": "markdown",
   "id": "1e61fb10",
   "metadata": {},
   "source": [
    "'product_id' re-cast the column as 'object' to prevent calculations. <br>\n",
    "'aisle_id' and 'department_id' were changed to 'category' to facilitate manipulations.\n",
    "Rows with missing product names: their ID's only show up once in the dataframe and all assigned 'aisle_id' 100 and 'department_id' 21, both named \"missing\". I cannot reconstruct what these products are or where do they belong, and were dropped from the dataframe. <br>\n",
    "because of the dropped rows, i will not re-assign the 'product_id' column as index, for it is not consecutive any more.\n",
    "The dataframe has no obvious duplicates. I fear no implicit duplicates as it is un-logical to have the same exact item listed under 2 ID's. \n",
    "\n",
    "[Back to contents](#back)"
   ]
  },
  {
   "cell_type": "markdown",
   "id": "9929caa5",
   "metadata": {},
   "source": [
    "### 2.3 Order_products.csv <a id=prepro_op></a>"
   ]
  },
  {
   "cell_type": "markdown",
   "id": "e3a168e1",
   "metadata": {},
   "source": [
    "#### 2.3.1 Correcting types <a id=op_type></a>"
   ]
  },
  {
   "cell_type": "code",
   "execution_count": 35,
   "id": "f7b1fcfe",
   "metadata": {},
   "outputs": [],
   "source": [
    "# re-casting 'order_id' and 'product_id' as 'object':\n",
    "order_products['order_id'] = order_products['order_id'].astype('object')\n",
    "order_products['product_id'] = order_products['product_id'].astype('object')"
   ]
  },
  {
   "cell_type": "code",
   "execution_count": 36,
   "id": "b2a076e9",
   "metadata": {},
   "outputs": [
    {
     "name": "stdout",
     "output_type": "stream",
     "text": [
      "<class 'pandas.core.frame.DataFrame'>\n",
      "RangeIndex: 4545007 entries, 0 to 4545006\n",
      "Data columns (total 4 columns):\n",
      " #   Column             Dtype  \n",
      "---  ------             -----  \n",
      " 0   order_id           object \n",
      " 1   product_id         object \n",
      " 2   add_to_cart_order  float64\n",
      " 3   reordered          int64  \n",
      "dtypes: float64(1), int64(1), object(2)\n",
      "memory usage: 138.7+ MB\n"
     ]
    }
   ],
   "source": [
    "order_products.info()"
   ]
  },
  {
   "cell_type": "markdown",
   "id": "d2904794",
   "metadata": {},
   "source": [
    "Because 'order_id' and 'product_id' are both ID numbers, I changed them to 'object' types to prevent calculations with their values. <br>\n",
    "'add_to_cart_order' should be turned to int, as you cant partly add something to the cart. I cant do that at this stage because I still need to verify the missing values in the column. After I'll complete the handling of missing values, ill also correct its type.<br>\n",
    "Because 'reordered' uses binary to represent True/False, I will keep it as INT type to facilitate statistical calculations.\n",
    "\n",
    "[Back to contents](#back)"
   ]
  },
  {
   "cell_type": "markdown",
   "id": "b0afb95c",
   "metadata": {},
   "source": [
    "#### 2.3.2 Missing values <a id=op_missing_values></a>"
   ]
  },
  {
   "cell_type": "code",
   "execution_count": 37,
   "id": "ced6f76f",
   "metadata": {},
   "outputs": [
    {
     "name": "stdout",
     "output_type": "stream",
     "text": [
      "<class 'pandas.core.frame.DataFrame'>\n",
      "Index: 836 entries, 737 to 4535739\n",
      "Data columns (total 4 columns):\n",
      " #   Column             Non-Null Count  Dtype  \n",
      "---  ------             --------------  -----  \n",
      " 0   order_id           836 non-null    object \n",
      " 1   product_id         836 non-null    object \n",
      " 2   add_to_cart_order  0 non-null      float64\n",
      " 3   reordered          836 non-null    int64  \n",
      "dtypes: float64(1), int64(1), object(2)\n",
      "memory usage: 32.7+ KB\n",
      "None\n",
      "        order_id product_id  add_to_cart_order  reordered\n",
      "2781179  2136777      34993                NaN          1\n",
      "410035   1959075      43182                NaN          1\n",
      "1388246  1730767      39561                NaN          1\n",
      "430918   1648217      48946                NaN          1\n",
      "3070436   871281      20119                NaN          0\n",
      "144645   2997021      29418                NaN          0\n",
      "1458986  1800005      46346                NaN          0\n",
      "2743329   171934      26032                NaN          1\n",
      "3719634  1386261      48946                NaN          1\n",
      "2429133  3308010       4920                NaN          1\n",
      "2948601  3308010      17706                NaN          1\n",
      "1120877  2094761        812                NaN          1\n",
      "170487   2136777       2635                NaN          1\n",
      "1625547  1220886      27966                NaN          0\n",
      "70057     264710      41602                NaN          0\n"
     ]
    }
   ],
   "source": [
    "# checking if the missing values of 'add_to_cart_order' are all first items or single purchase order:\n",
    "op_missing_rows = order_products[order_products['add_to_cart_order'].isna()]\n",
    "print(op_missing_rows.info())\n",
    "print(op_missing_rows.sample(15))"
   ]
  },
  {
   "cell_type": "code",
   "execution_count": 38,
   "id": "01f29d10",
   "metadata": {},
   "outputs": [
    {
     "data": {
      "text/html": [
       "<div>\n",
       "<style scoped>\n",
       "    .dataframe tbody tr th:only-of-type {\n",
       "        vertical-align: middle;\n",
       "    }\n",
       "\n",
       "    .dataframe tbody tr th {\n",
       "        vertical-align: top;\n",
       "    }\n",
       "\n",
       "    .dataframe thead th {\n",
       "        text-align: right;\n",
       "    }\n",
       "</style>\n",
       "<table border=\"1\" class=\"dataframe\">\n",
       "  <thead>\n",
       "    <tr style=\"text-align: right;\">\n",
       "      <th></th>\n",
       "      <th>product_id</th>\n",
       "      <th>add_to_cart_order</th>\n",
       "      <th>reordered</th>\n",
       "    </tr>\n",
       "    <tr>\n",
       "      <th>order_id</th>\n",
       "      <th></th>\n",
       "      <th></th>\n",
       "      <th></th>\n",
       "    </tr>\n",
       "  </thead>\n",
       "  <tbody>\n",
       "    <tr>\n",
       "      <th>9310</th>\n",
       "      <td>65</td>\n",
       "      <td>64</td>\n",
       "      <td>65</td>\n",
       "    </tr>\n",
       "    <tr>\n",
       "      <th>61355</th>\n",
       "      <td>127</td>\n",
       "      <td>64</td>\n",
       "      <td>127</td>\n",
       "    </tr>\n",
       "    <tr>\n",
       "      <th>102236</th>\n",
       "      <td>95</td>\n",
       "      <td>64</td>\n",
       "      <td>95</td>\n",
       "    </tr>\n",
       "    <tr>\n",
       "      <th>129627</th>\n",
       "      <td>69</td>\n",
       "      <td>64</td>\n",
       "      <td>69</td>\n",
       "    </tr>\n",
       "    <tr>\n",
       "      <th>165801</th>\n",
       "      <td>70</td>\n",
       "      <td>64</td>\n",
       "      <td>70</td>\n",
       "    </tr>\n",
       "    <tr>\n",
       "      <th>171934</th>\n",
       "      <td>104</td>\n",
       "      <td>64</td>\n",
       "      <td>104</td>\n",
       "    </tr>\n",
       "    <tr>\n",
       "      <th>180546</th>\n",
       "      <td>66</td>\n",
       "      <td>64</td>\n",
       "      <td>66</td>\n",
       "    </tr>\n",
       "    <tr>\n",
       "      <th>264710</th>\n",
       "      <td>91</td>\n",
       "      <td>64</td>\n",
       "      <td>91</td>\n",
       "    </tr>\n",
       "    <tr>\n",
       "      <th>293169</th>\n",
       "      <td>77</td>\n",
       "      <td>64</td>\n",
       "      <td>77</td>\n",
       "    </tr>\n",
       "    <tr>\n",
       "      <th>388234</th>\n",
       "      <td>70</td>\n",
       "      <td>64</td>\n",
       "      <td>70</td>\n",
       "    </tr>\n",
       "    <tr>\n",
       "      <th>404157</th>\n",
       "      <td>76</td>\n",
       "      <td>64</td>\n",
       "      <td>76</td>\n",
       "    </tr>\n",
       "    <tr>\n",
       "      <th>678116</th>\n",
       "      <td>70</td>\n",
       "      <td>64</td>\n",
       "      <td>70</td>\n",
       "    </tr>\n",
       "    <tr>\n",
       "      <th>733526</th>\n",
       "      <td>69</td>\n",
       "      <td>64</td>\n",
       "      <td>69</td>\n",
       "    </tr>\n",
       "    <tr>\n",
       "      <th>747668</th>\n",
       "      <td>65</td>\n",
       "      <td>64</td>\n",
       "      <td>65</td>\n",
       "    </tr>\n",
       "    <tr>\n",
       "      <th>813364</th>\n",
       "      <td>85</td>\n",
       "      <td>64</td>\n",
       "      <td>85</td>\n",
       "    </tr>\n",
       "  </tbody>\n",
       "</table>\n",
       "</div>"
      ],
      "text/plain": [
       "          product_id  add_to_cart_order  reordered\n",
       "order_id                                          \n",
       "9310              65                 64         65\n",
       "61355            127                 64        127\n",
       "102236            95                 64         95\n",
       "129627            69                 64         69\n",
       "165801            70                 64         70\n",
       "171934           104                 64        104\n",
       "180546            66                 64         66\n",
       "264710            91                 64         91\n",
       "293169            77                 64         77\n",
       "388234            70                 64         70\n",
       "404157            76                 64         76\n",
       "678116            70                 64         70\n",
       "733526            69                 64         69\n",
       "747668            65                 64         65\n",
       "813364            85                 64         85"
      ]
     },
     "execution_count": 38,
     "metadata": {},
     "output_type": "execute_result"
    }
   ],
   "source": [
    "orders_with_misses = order_products[order_products['order_id'].isin(op_missing_rows['order_id'])]\n",
    "orders_with_misses = orders_with_misses.groupby('order_id').count()\n",
    "orders_with_misses.head(15)"
   ]
  },
  {
   "cell_type": "markdown",
   "id": "cd185ca1",
   "metadata": {},
   "source": [
    "The orders with NaN 'add_to_cart_order' values are not single item purchase. Ill look at 2 purchases from this table to try and understand if it is a specific condition, or a random problem to be reported to the DB admin."
   ]
  },
  {
   "cell_type": "code",
   "execution_count": 39,
   "id": "ad316fee",
   "metadata": {},
   "outputs": [
    {
     "name": "stdout",
     "output_type": "stream",
     "text": [
      "        order_id product_id  add_to_cart_order  reordered\n",
      "4520124     9310      32578                1.0          1\n",
      "2160215     9310      20082                2.0          1\n",
      "3148360     9310      27966                3.0          1\n",
      "1806792     9310      18523                4.0          1\n",
      "990652      9310      42828                5.0          0\n",
      "...          ...        ...                ...        ...\n",
      "854075      9310      33290               61.0          0\n",
      "3468473     9310      15455               62.0          0\n",
      "1992474     9310      45002               63.0          0\n",
      "4432234     9310      21332               64.0          0\n",
      "2437093     9310      25753                NaN          0\n",
      "\n",
      "[65 rows x 4 columns]\n",
      "<class 'pandas.core.series.Series'>\n",
      "Index: 65 entries, 4350 to 4520124\n",
      "Series name: add_to_cart_order\n",
      "Non-Null Count  Dtype  \n",
      "--------------  -----  \n",
      "64 non-null     float64\n",
      "dtypes: float64(1)\n",
      "memory usage: 1.0 KB\n",
      "None\n"
     ]
    }
   ],
   "source": [
    "order_9310 = order_products[order_products['order_id']==9310]\n",
    "print(order_9310.sort_values(by='add_to_cart_order'))\n",
    "print(order_9310['add_to_cart_order'].info())"
   ]
  },
  {
   "cell_type": "code",
   "execution_count": 40,
   "id": "61a7abbb",
   "metadata": {},
   "outputs": [
    {
     "name": "stdout",
     "output_type": "stream",
     "text": [
      "        order_id product_id  add_to_cart_order  reordered\n",
      "2897193    61355      47209                1.0          0\n",
      "2652936    61355      34270                2.0          1\n",
      "2187266    61355      41363                3.0          0\n",
      "1628680    61355      28420                4.0          1\n",
      "269840     61355      14233                5.0          0\n",
      "...          ...        ...                ...        ...\n",
      "4026844    61355      48104                NaN          0\n",
      "4063159    61355       1087                NaN          0\n",
      "4126014    61355      12440                NaN          0\n",
      "4164200    61355       9484                NaN          0\n",
      "4268097    61355      40709                NaN          0\n",
      "\n",
      "[127 rows x 4 columns]\n",
      "<class 'pandas.core.series.Series'>\n",
      "Index: 127 entries, 57981 to 4525165\n",
      "Series name: add_to_cart_order\n",
      "Non-Null Count  Dtype  \n",
      "--------------  -----  \n",
      "64 non-null     float64\n",
      "dtypes: float64(1)\n",
      "memory usage: 2.0 KB\n",
      "None\n"
     ]
    }
   ],
   "source": [
    "order_61355 = order_products[order_products['order_id']==61355]\n",
    "print(order_61355.sort_values(by='add_to_cart_order'))\n",
    "print(order_61355['add_to_cart_order'].info())"
   ]
  },
  {
   "cell_type": "markdown",
   "id": "8a0b3178",
   "metadata": {},
   "source": [
    "It seems the system can only record the order numbers untill 64, and afterwards it assigns only NaN. Looking back at the table created by \"orders_with_misses.groupby('order_id').count()\", we see all orders have 64 counts on the 'add_to_cart_order' column regardless of the order size. I will do one last check to confirm that all orders on that table are bigger than 64 items."
   ]
  },
  {
   "cell_type": "code",
   "execution_count": 41,
   "id": "c1123273",
   "metadata": {},
   "outputs": [
    {
     "data": {
      "text/plain": [
       "count     70.000000\n",
       "mean      75.942857\n",
       "std       12.898585\n",
       "min       65.000000\n",
       "25%       67.000000\n",
       "50%       71.000000\n",
       "75%       78.000000\n",
       "max      127.000000\n",
       "Name: product_id, dtype: float64"
      ]
     },
     "execution_count": 41,
     "metadata": {},
     "output_type": "execute_result"
    }
   ],
   "source": [
    "orders_with_misses['product_id'].describe()"
   ]
  },
  {
   "cell_type": "markdown",
   "id": "960c0753",
   "metadata": {},
   "source": [
    "The smallest order on the check-table is/are with 65 items. it seems the NaN occur because the DB stoped counting after 64. Should be reported to the D.Es<br>\n",
    "\n",
    "Because I cannot re-construct the missing order but want to keep the data for other analysis, I will keep the rows in the dataframe. I will however limit statistical analyses on the 'add_to_cart_order' to orders containing 64 items max. trying to fill-in the missing values will abscure the results.\n",
    "\n",
    "[Back to contents](#back)"
   ]
  },
  {
   "cell_type": "markdown",
   "id": "8de4a511",
   "metadata": {},
   "source": [
    "#### 2.3.3 Duplicates <a id=op_duplicates></a>"
   ]
  },
  {
   "cell_type": "code",
   "execution_count": 42,
   "id": "ee1faeae",
   "metadata": {},
   "outputs": [
    {
     "data": {
      "text/plain": [
       "False    4545007\n",
       "Name: count, dtype: int64"
      ]
     },
     "execution_count": 42,
     "metadata": {},
     "output_type": "execute_result"
    }
   ],
   "source": [
    "# checking for obvious duplicates:\n",
    "order_products.duplicated().value_counts()"
   ]
  },
  {
   "cell_type": "markdown",
   "id": "60bdeb79",
   "metadata": {},
   "source": [
    "The dataframe shows no obvious duplicates. Based on the information stored in the columns I dont suspect typos or other implicit duplicates. \n",
    "\n",
    "[Back to contents](#back)"
   ]
  },
  {
   "cell_type": "markdown",
   "id": "0a1b02fb",
   "metadata": {},
   "source": [
    "#### 2.3.4 Conclusions <a id=oc_conclusions></a>"
   ]
  },
  {
   "cell_type": "markdown",
   "id": "8b3eccd2",
   "metadata": {},
   "source": [
    "'order_id' and 'product_id' changed to 'object' types to prevent calculations with thier values. <br>\n",
    "The missing values on the 'add_to_cart_order' column stem from an error in the collection phase. The system registered the order till item 64, and afterwards assigned NaN values. The order of the missing items cant be reconstructed, so it can't be filled-in. I fear changing other statistical results if rows with NaN values taken out. I decided on keeping the rows in the dataframe, but remembering excluding these orders in caculations for item's purchase order.<br>\n",
    "The dataframe shows no obvious duplicates and I dont suspect finding typos or other implicit duplicates. \n",
    "\n",
    "[Back to contents](#back)"
   ]
  },
  {
   "cell_type": "markdown",
   "id": "8a1469a5",
   "metadata": {},
   "source": [
    "### 2.4 Aisles.csv <a id=prepro_aisles></a>"
   ]
  },
  {
   "cell_type": "markdown",
   "id": "9eb2f09f",
   "metadata": {},
   "source": [
    "#### 2.4.1 Correcting types <a id=asiles_type></a>"
   ]
  },
  {
   "cell_type": "code",
   "execution_count": 43,
   "id": "4946a2c0",
   "metadata": {},
   "outputs": [
    {
     "name": "stdout",
     "output_type": "stream",
     "text": [
      "<class 'pandas.core.frame.DataFrame'>\n",
      "Index: 134 entries, 1 to 134\n",
      "Data columns (total 1 columns):\n",
      " #   Column  Non-Null Count  Dtype \n",
      "---  ------  --------------  ----- \n",
      " 0   aisle   134 non-null    object\n",
      "dtypes: object(1)\n",
      "memory usage: 2.1+ KB\n"
     ]
    }
   ],
   "source": [
    "# re-casting 'aisle_id' as object, and setting it as index:\n",
    "aisles['aisle_id'] = aisles['aisle_id'].astype('object')\n",
    "aisles = aisles.set_index('aisle_id')\n",
    "\n",
    "aisles.info()"
   ]
  },
  {
   "cell_type": "markdown",
   "id": "e996b753",
   "metadata": {},
   "source": [
    "'aisle_id' was set to 'object' to prevent statistical calculations with the column, and set as index for conviniece.\n",
    "\n",
    "[Back to contents](#back)"
   ]
  },
  {
   "cell_type": "markdown",
   "id": "81e6157f",
   "metadata": {},
   "source": [
    "#### 2.4.2 Duplicates <a id=aisles_duplicates></a>"
   ]
  },
  {
   "cell_type": "code",
   "execution_count": 44,
   "id": "b6c38b2c",
   "metadata": {},
   "outputs": [
    {
     "data": {
      "text/plain": [
       "False    134\n",
       "Name: count, dtype: int64"
      ]
     },
     "execution_count": 44,
     "metadata": {},
     "output_type": "execute_result"
    }
   ],
   "source": [
    "# checking obvious duplicates:\n",
    "aisles.duplicated().value_counts()"
   ]
  },
  {
   "cell_type": "code",
   "execution_count": 45,
   "id": "08a844bf",
   "metadata": {},
   "outputs": [
    {
     "name": "stdout",
     "output_type": "stream",
     "text": [
      "134\n",
      "\n",
      "aisle\n",
      "candy chocolate               1\n",
      "eye ear care                  1\n",
      "buns rolls                    1\n",
      "frozen vegan vegetarian       1\n",
      "cat food care                 1\n",
      "dog food care                 1\n",
      "seafood counter               1\n",
      "frozen meals                  1\n",
      "ice cream ice                 1\n",
      "specialty wines champagnes    1\n",
      "Name: count, dtype: int64\n"
     ]
    }
   ],
   "source": [
    "# searching for implicit duplicates:\n",
    "print(aisles['aisle'].nunique())\n",
    "print()\n",
    "print(aisles['aisle'].value_counts().tail(10))"
   ]
  },
  {
   "cell_type": "markdown",
   "id": "242a66d4",
   "metadata": {},
   "source": [
    "There are no Obvious duplicates in the dataframe. All the rows in the dataframe have unique 'aisle' value. I found no duplicates.\n",
    "\n",
    "[Back to contents](#back)"
   ]
  },
  {
   "cell_type": "markdown",
   "id": "3b78abdd",
   "metadata": {},
   "source": [
    "#### 2.4.3 Conclusions <a id=aisles_conclusions></a>"
   ]
  },
  {
   "cell_type": "markdown",
   "id": "fc5b4ab7",
   "metadata": {},
   "source": [
    "'aisle_id' was set to 'object' and set as index for conviniece.<br>\n",
    "The dataframe has no duplicates\n",
    "\n",
    "[Back to contents](#back)"
   ]
  },
  {
   "cell_type": "markdown",
   "id": "f0bc772d",
   "metadata": {},
   "source": [
    "### 2.5 Departments.csv <a id=prepro_depart></a>"
   ]
  },
  {
   "cell_type": "markdown",
   "id": "b6fb0172",
   "metadata": {},
   "source": [
    "#### 2.5.1 Correcting types <a id=depart_type></a>"
   ]
  },
  {
   "cell_type": "code",
   "execution_count": 46,
   "id": "6779bf15",
   "metadata": {},
   "outputs": [
    {
     "name": "stdout",
     "output_type": "stream",
     "text": [
      "<class 'pandas.core.frame.DataFrame'>\n",
      "Index: 21 entries, 1 to 21\n",
      "Data columns (total 1 columns):\n",
      " #   Column      Non-Null Count  Dtype \n",
      "---  ------      --------------  ----- \n",
      " 0   department  21 non-null     object\n",
      "dtypes: object(1)\n",
      "memory usage: 336.0+ bytes\n"
     ]
    }
   ],
   "source": [
    "# re-casting 'department_id' as 'object' and setting it as index:\n",
    "departments['department_id'] = departments['department_id'].astype('object')\n",
    "departments = departments.set_index('department_id')\n",
    "\n",
    "departments.info()"
   ]
  },
  {
   "cell_type": "markdown",
   "id": "b068025f",
   "metadata": {},
   "source": [
    "'department_id' was set to 'object' to prevent statistical calculations with the column, and set as index for conviniece.\n",
    "\n",
    "[Back to contents](#back)"
   ]
  },
  {
   "cell_type": "markdown",
   "id": "0e58bc54",
   "metadata": {},
   "source": [
    "#### 2.5.2 Duplicates <a id=depart_duplicates></a>"
   ]
  },
  {
   "cell_type": "code",
   "execution_count": 47,
   "id": "9d00b180",
   "metadata": {},
   "outputs": [
    {
     "data": {
      "text/plain": [
       "False    21\n",
       "Name: count, dtype: int64"
      ]
     },
     "execution_count": 47,
     "metadata": {},
     "output_type": "execute_result"
    }
   ],
   "source": [
    "# checking for obvious duplicates:\n",
    "departments.duplicated().value_counts()"
   ]
  },
  {
   "cell_type": "code",
   "execution_count": 48,
   "id": "06c2ad72",
   "metadata": {},
   "outputs": [
    {
     "name": "stdout",
     "output_type": "stream",
     "text": [
      "21\n",
      "\n",
      "department\n",
      "other              1\n",
      "bulk               1\n",
      "dry goods pasta    1\n",
      "pets               1\n",
      "beverages          1\n",
      "international      1\n",
      "alcohol            1\n",
      "produce            1\n",
      "bakery             1\n",
      "missing            1\n",
      "Name: count, dtype: int64\n"
     ]
    }
   ],
   "source": [
    "# searching for implicit duplicates:\n",
    "print(departments['department'].nunique())\n",
    "print()\n",
    "print(departments['department'].value_counts().tail(10))"
   ]
  },
  {
   "cell_type": "markdown",
   "id": "4370e3b9",
   "metadata": {},
   "source": [
    "There are no Obvious duplicates in the dataframe. All the rows in the dataframe have unique 'department' value. I found no duplicates.\n",
    "\n",
    "[Back to contents](#back)"
   ]
  },
  {
   "cell_type": "markdown",
   "id": "8c64cb41",
   "metadata": {},
   "source": [
    "#### 2.5.3 Conclusions <a id=depart_conclusions></a>"
   ]
  },
  {
   "cell_type": "markdown",
   "id": "4ee6dafb",
   "metadata": {},
   "source": [
    "'department_id' was set to 'object' and set as index for conviniece.<br>\n",
    "The dataframe has no duplicates.\n",
    "\n",
    "[Back to contents](#back)"
   ]
  },
  {
   "cell_type": "markdown",
   "id": "79d887a3",
   "metadata": {},
   "source": [
    "## "
   ]
  },
  {
   "cell_type": "markdown",
   "id": "5d34d698",
   "metadata": {},
   "source": [
    "## Stage 3. Analysis and Visualizations <a id=analysis></a>"
   ]
  },
  {
   "cell_type": "markdown",
   "id": "86231f3a",
   "metadata": {},
   "source": [
    "### 3.1 Easy analysis <a id=easy_analysis></a>"
   ]
  },
  {
   "cell_type": "markdown",
   "id": "052db996",
   "metadata": {},
   "source": [
    "#### 3.1.1 Verify that values <a id=3_1_1></a>"
   ]
  },
  {
   "cell_type": "markdown",
   "id": "0bde6698",
   "metadata": {},
   "source": [
    "Verify that values in the 'order_hour_of_day' and 'order_dow' columns in the orders table are sensible (i.e. 'order_hour_of_day' ranges from 0 to 23 and 'order_dow' ranges from 0 to 6)."
   ]
  },
  {
   "cell_type": "code",
   "execution_count": 49,
   "id": "fc19cc47",
   "metadata": {},
   "outputs": [
    {
     "name": "stdout",
     "output_type": "stream",
     "text": [
      "order_dow\n",
      "Friday       59810\n",
      "Monday       84090\n",
      "Saturday     63488\n",
      "Sunday       62649\n",
      "Thursday     60897\n",
      "Tuesday      82185\n",
      "Wednesday    65833\n",
      "Name: count, dtype: int64\n",
      "\n"
     ]
    },
    {
     "data": {
      "text/plain": [
       "order_hour_of_day\n",
       "0      3180\n",
       "1      1763\n",
       "2       989\n",
       "3       770\n",
       "4       765\n",
       "5      1371\n",
       "6      4215\n",
       "7     13043\n",
       "8     25024\n",
       "9     35896\n",
       "10    40578\n",
       "11    40032\n",
       "12    38034\n",
       "13    39007\n",
       "14    39631\n",
       "15    39789\n",
       "16    38112\n",
       "17    31930\n",
       "18    25510\n",
       "19    19547\n",
       "20    14624\n",
       "21    11019\n",
       "22     8512\n",
       "23     5611\n",
       "Name: count, dtype: int64"
      ]
     },
     "execution_count": 49,
     "metadata": {},
     "output_type": "execute_result"
    }
   ],
   "source": [
    "# Checking the values of the desired columns:\n",
    "print(ic_orders['order_dow'].value_counts().sort_index())\n",
    "print()\n",
    "ic_orders['order_hour_of_day'].value_counts().sort_index()"
   ]
  },
  {
   "cell_type": "markdown",
   "id": "d09f3f10",
   "metadata": {},
   "source": [
    "Both columns have the expected sane values, described in the documentation.  \n",
    "\n",
    "[Back to conetents](#back)"
   ]
  },
  {
   "cell_type": "markdown",
   "id": "368c0a3b",
   "metadata": {},
   "source": [
    "#### 3.1.2  how many people place orders for each hour of the day <a id=3_1_2></a>"
   ]
  },
  {
   "cell_type": "markdown",
   "id": "192305ee",
   "metadata": {},
   "source": [
    "Create a plot that shows how many people place orders for each hour of the day."
   ]
  },
  {
   "cell_type": "code",
   "execution_count": 50,
   "id": "fc56b7a8",
   "metadata": {},
   "outputs": [
    {
     "data": {
      "text/html": [
       "<div>\n",
       "<style scoped>\n",
       "    .dataframe tbody tr th:only-of-type {\n",
       "        vertical-align: middle;\n",
       "    }\n",
       "\n",
       "    .dataframe tbody tr th {\n",
       "        vertical-align: top;\n",
       "    }\n",
       "\n",
       "    .dataframe thead th {\n",
       "        text-align: right;\n",
       "    }\n",
       "</style>\n",
       "<table border=\"1\" class=\"dataframe\">\n",
       "  <thead>\n",
       "    <tr style=\"text-align: right;\">\n",
       "      <th></th>\n",
       "      <th>unique_user_count</th>\n",
       "    </tr>\n",
       "    <tr>\n",
       "      <th>order_hour_of_day</th>\n",
       "      <th></th>\n",
       "    </tr>\n",
       "  </thead>\n",
       "  <tbody>\n",
       "    <tr>\n",
       "      <th>0</th>\n",
       "      <td>2991</td>\n",
       "    </tr>\n",
       "    <tr>\n",
       "      <th>1</th>\n",
       "      <td>1671</td>\n",
       "    </tr>\n",
       "    <tr>\n",
       "      <th>2</th>\n",
       "      <td>958</td>\n",
       "    </tr>\n",
       "    <tr>\n",
       "      <th>3</th>\n",
       "      <td>744</td>\n",
       "    </tr>\n",
       "    <tr>\n",
       "      <th>4</th>\n",
       "      <td>735</td>\n",
       "    </tr>\n",
       "    <tr>\n",
       "      <th>5</th>\n",
       "      <td>1281</td>\n",
       "    </tr>\n",
       "    <tr>\n",
       "      <th>6</th>\n",
       "      <td>3757</td>\n",
       "    </tr>\n",
       "    <tr>\n",
       "      <th>7</th>\n",
       "      <td>10993</td>\n",
       "    </tr>\n",
       "    <tr>\n",
       "      <th>8</th>\n",
       "      <td>20268</td>\n",
       "    </tr>\n",
       "    <tr>\n",
       "      <th>9</th>\n",
       "      <td>28112</td>\n",
       "    </tr>\n",
       "    <tr>\n",
       "      <th>10</th>\n",
       "      <td>32195</td>\n",
       "    </tr>\n",
       "    <tr>\n",
       "      <th>11</th>\n",
       "      <td>32660</td>\n",
       "    </tr>\n",
       "    <tr>\n",
       "      <th>12</th>\n",
       "      <td>31754</td>\n",
       "    </tr>\n",
       "    <tr>\n",
       "      <th>13</th>\n",
       "      <td>32433</td>\n",
       "    </tr>\n",
       "    <tr>\n",
       "      <th>14</th>\n",
       "      <td>32797</td>\n",
       "    </tr>\n",
       "    <tr>\n",
       "      <th>15</th>\n",
       "      <td>32894</td>\n",
       "    </tr>\n",
       "    <tr>\n",
       "      <th>16</th>\n",
       "      <td>31579</td>\n",
       "    </tr>\n",
       "    <tr>\n",
       "      <th>17</th>\n",
       "      <td>26825</td>\n",
       "    </tr>\n",
       "    <tr>\n",
       "      <th>18</th>\n",
       "      <td>21795</td>\n",
       "    </tr>\n",
       "    <tr>\n",
       "      <th>19</th>\n",
       "      <td>17026</td>\n",
       "    </tr>\n",
       "    <tr>\n",
       "      <th>20</th>\n",
       "      <td>12891</td>\n",
       "    </tr>\n",
       "    <tr>\n",
       "      <th>21</th>\n",
       "      <td>9806</td>\n",
       "    </tr>\n",
       "    <tr>\n",
       "      <th>22</th>\n",
       "      <td>7670</td>\n",
       "    </tr>\n",
       "    <tr>\n",
       "      <th>23</th>\n",
       "      <td>5167</td>\n",
       "    </tr>\n",
       "  </tbody>\n",
       "</table>\n",
       "</div>"
      ],
      "text/plain": [
       "                   unique_user_count\n",
       "order_hour_of_day                   \n",
       "0                               2991\n",
       "1                               1671\n",
       "2                                958\n",
       "3                                744\n",
       "4                                735\n",
       "5                               1281\n",
       "6                               3757\n",
       "7                              10993\n",
       "8                              20268\n",
       "9                              28112\n",
       "10                             32195\n",
       "11                             32660\n",
       "12                             31754\n",
       "13                             32433\n",
       "14                             32797\n",
       "15                             32894\n",
       "16                             31579\n",
       "17                             26825\n",
       "18                             21795\n",
       "19                             17026\n",
       "20                             12891\n",
       "21                              9806\n",
       "22                              7670\n",
       "23                              5167"
      ]
     },
     "execution_count": 50,
     "metadata": {},
     "output_type": "execute_result"
    }
   ],
   "source": [
    "# counting unique users in each hour:\n",
    "user_per_hour = ic_orders.groupby('order_hour_of_day', observed=False)['user_id'].nunique().reset_index()\n",
    "user_per_hour.columns = ['order_hour_of_day', 'unique_user_count']\n",
    "user_per_hour = user_per_hour.set_index('order_hour_of_day')\n",
    "user_per_hour"
   ]
  },
  {
   "cell_type": "code",
   "execution_count": 51,
   "id": "f5320851",
   "metadata": {},
   "outputs": [
    {
     "data": {
      "image/png": "[encoded data removed]",
      "text/plain": [
       "<Figure size 640x480 with 1 Axes>"
      ]
     },
     "metadata": {},
     "output_type": "display_data"
    }
   ],
   "source": [
    "# plotting:\n",
    "sns.barplot(\n",
    "    data=user_per_hour,\n",
    "    x='order_hour_of_day',\n",
    "    y='unique_user_count',\n",
    ")\n",
    "\n",
    "plt.title('Number of unique users ordering per hour of day')\n",
    "plt.xlabel('Hour of day')\n",
    "plt.ylabel('unique users')\n",
    "plt.tight_layout()\n",
    "plt.show()"
   ]
  },
  {
   "cell_type": "markdown",
   "id": "0d30a95a",
   "metadata": {},
   "source": [
    "Most active hours, with the most unique users placing orders are between 10h and 16h.\n",
    "\n",
    "[Back to contents](#back)"
   ]
  },
  {
   "cell_type": "markdown",
   "id": "a0bd54ca",
   "metadata": {},
   "source": [
    "#### 3.1.3 what day of the week people shop for groceries? <a id=3_1_3></a>"
   ]
  },
  {
   "cell_type": "markdown",
   "id": "498b990f",
   "metadata": {},
   "source": [
    "Create a plot that shows what day of the week people shop for groceries."
   ]
  },
  {
   "cell_type": "code",
   "execution_count": 52,
   "id": "7f67145c",
   "metadata": {},
   "outputs": [
    {
     "data": {
      "text/html": [
       "<div>\n",
       "<style scoped>\n",
       "    .dataframe tbody tr th:only-of-type {\n",
       "        vertical-align: middle;\n",
       "    }\n",
       "\n",
       "    .dataframe tbody tr th {\n",
       "        vertical-align: top;\n",
       "    }\n",
       "\n",
       "    .dataframe thead th {\n",
       "        text-align: right;\n",
       "    }\n",
       "</style>\n",
       "<table border=\"1\" class=\"dataframe\">\n",
       "  <thead>\n",
       "    <tr style=\"text-align: right;\">\n",
       "      <th></th>\n",
       "      <th>number_of_orders</th>\n",
       "    </tr>\n",
       "    <tr>\n",
       "      <th>order_dow</th>\n",
       "      <th></th>\n",
       "    </tr>\n",
       "  </thead>\n",
       "  <tbody>\n",
       "    <tr>\n",
       "      <th>Friday</th>\n",
       "      <td>59810</td>\n",
       "    </tr>\n",
       "    <tr>\n",
       "      <th>Monday</th>\n",
       "      <td>84090</td>\n",
       "    </tr>\n",
       "    <tr>\n",
       "      <th>Saturday</th>\n",
       "      <td>63488</td>\n",
       "    </tr>\n",
       "    <tr>\n",
       "      <th>Sunday</th>\n",
       "      <td>62649</td>\n",
       "    </tr>\n",
       "    <tr>\n",
       "      <th>Thursday</th>\n",
       "      <td>60897</td>\n",
       "    </tr>\n",
       "    <tr>\n",
       "      <th>Tuesday</th>\n",
       "      <td>82185</td>\n",
       "    </tr>\n",
       "    <tr>\n",
       "      <th>Wednesday</th>\n",
       "      <td>65833</td>\n",
       "    </tr>\n",
       "  </tbody>\n",
       "</table>\n",
       "</div>"
      ],
      "text/plain": [
       "           number_of_orders\n",
       "order_dow                  \n",
       "Friday                59810\n",
       "Monday                84090\n",
       "Saturday              63488\n",
       "Sunday                62649\n",
       "Thursday              60897\n",
       "Tuesday               82185\n",
       "Wednesday             65833"
      ]
     },
     "execution_count": 52,
     "metadata": {},
     "output_type": "execute_result"
    }
   ],
   "source": [
    "# counting orders grouped by 'order_dow':\n",
    "orders_per_dow = ic_orders.groupby('order_dow', observed=False)['order_id'].nunique().reset_index()\n",
    "orders_per_dow.columns = ['order_dow', 'number_of_orders']\n",
    "orders_per_dow = orders_per_dow.set_index('order_dow')\n",
    "orders_per_dow"
   ]
  },
  {
   "cell_type": "code",
   "execution_count": 53,
   "id": "1ed4385a",
   "metadata": {},
   "outputs": [
    {
     "data": {
      "text/html": [
       "<div>\n",
       "<style scoped>\n",
       "    .dataframe tbody tr th:only-of-type {\n",
       "        vertical-align: middle;\n",
       "    }\n",
       "\n",
       "    .dataframe tbody tr th {\n",
       "        vertical-align: top;\n",
       "    }\n",
       "\n",
       "    .dataframe thead th {\n",
       "        text-align: right;\n",
       "    }\n",
       "</style>\n",
       "<table border=\"1\" class=\"dataframe\">\n",
       "  <thead>\n",
       "    <tr style=\"text-align: right;\">\n",
       "      <th></th>\n",
       "      <th>number_of_orders</th>\n",
       "    </tr>\n",
       "    <tr>\n",
       "      <th>order_dow</th>\n",
       "      <th></th>\n",
       "    </tr>\n",
       "  </thead>\n",
       "  <tbody>\n",
       "    <tr>\n",
       "      <th>Monday</th>\n",
       "      <td>84090</td>\n",
       "    </tr>\n",
       "    <tr>\n",
       "      <th>Tuesday</th>\n",
       "      <td>82185</td>\n",
       "    </tr>\n",
       "    <tr>\n",
       "      <th>Wednesday</th>\n",
       "      <td>65833</td>\n",
       "    </tr>\n",
       "    <tr>\n",
       "      <th>Thursday</th>\n",
       "      <td>60897</td>\n",
       "    </tr>\n",
       "    <tr>\n",
       "      <th>Friday</th>\n",
       "      <td>59810</td>\n",
       "    </tr>\n",
       "    <tr>\n",
       "      <th>Saturday</th>\n",
       "      <td>63488</td>\n",
       "    </tr>\n",
       "    <tr>\n",
       "      <th>Sunday</th>\n",
       "      <td>62649</td>\n",
       "    </tr>\n",
       "  </tbody>\n",
       "</table>\n",
       "</div>"
      ],
      "text/plain": [
       "           number_of_orders\n",
       "order_dow                  \n",
       "Monday                84090\n",
       "Tuesday               82185\n",
       "Wednesday             65833\n",
       "Thursday              60897\n",
       "Friday                59810\n",
       "Saturday              63488\n",
       "Sunday                62649"
      ]
     },
     "execution_count": 53,
     "metadata": {},
     "output_type": "execute_result"
    }
   ],
   "source": [
    "# re-ordering the index:\n",
    "orders_per_dow = orders_per_dow.reindex(['Monday', 'Tuesday', 'Wednesday', 'Thursday', 'Friday', 'Saturday', 'Sunday'])\n",
    "orders_per_dow"
   ]
  },
  {
   "cell_type": "code",
   "execution_count": 54,
   "id": "cc1ec6fc",
   "metadata": {},
   "outputs": [
    {
     "data": {
      "image/png": "[encoded data removed]",
      "text/plain": [
       "<Figure size 640x480 with 1 Axes>"
      ]
     },
     "metadata": {},
     "output_type": "display_data"
    }
   ],
   "source": [
    "# creating a bar-plot visualization:\n",
    "sns.barplot(\n",
    "    data=orders_per_dow,\n",
    "    x='order_dow',\n",
    "    y='number_of_orders'\n",
    ")\n",
    "\n",
    "plt.title('Number of orders per DoW')\n",
    "plt.xlabel('Day of the week')\n",
    "plt.ylabel('number of orders')\n",
    "plt.tight_layout()\n",
    "plt.show()"
   ]
  },
  {
   "cell_type": "markdown",
   "id": "c72765b9",
   "metadata": {},
   "source": [
    "The most busy days on Instacart are Monday and Tuesday.\n",
    "\n",
    "[Back to contents](#back)"
   ]
  },
  {
   "cell_type": "markdown",
   "id": "493e3123",
   "metadata": {},
   "source": [
    "#### 3.1.4 How long people wait until placing their next order? <a id=3_1_4></a>"
   ]
  },
  {
   "cell_type": "markdown",
   "id": "4dd64f9a",
   "metadata": {},
   "source": [
    "Create a plot that shows how long people wait until placing their next order, and comment on the minimum and maximum values."
   ]
  },
  {
   "cell_type": "code",
   "execution_count": 55,
   "id": "188fc84a",
   "metadata": {},
   "outputs": [
    {
     "data": {
      "text/plain": [
       "1"
      ]
     },
     "execution_count": 55,
     "metadata": {},
     "output_type": "execute_result"
    }
   ],
   "source": [
    "# checking min value of ic_orders['order_number']:\n",
    "ic_orders['order_number'].min()"
   ]
  },
  {
   "cell_type": "code",
   "execution_count": 56,
   "id": "46a22ef0",
   "metadata": {},
   "outputs": [
    {
     "name": "stdout",
     "output_type": "stream",
     "text": [
      "<class 'pandas.core.series.Series'>\n",
      "Index: 149597 entries, 0 to 478946\n",
      "Series name: user_id\n",
      "Non-Null Count   Dtype \n",
      "--------------   ----- \n",
      "149597 non-null  object\n",
      "dtypes: object(1)\n",
      "memory usage: 2.3+ MB\n"
     ]
    }
   ],
   "source": [
    "# creating a list of users who made more than one purchase:\n",
    "returning_users = ic_orders[ic_orders['order_number']>1]['user_id']\n",
    "returning_users = returning_users.drop_duplicates()\n",
    "returning_users.info()"
   ]
  },
  {
   "cell_type": "code",
   "execution_count": 57,
   "id": "c7159457",
   "metadata": {},
   "outputs": [
    {
     "data": {
      "text/plain": [
       "count    450135.000000\n",
       "mean         11.101814\n",
       "std           9.190004\n",
       "min           0.000000\n",
       "25%           4.000000\n",
       "50%           7.000000\n",
       "75%          15.000000\n",
       "max          30.000000\n",
       "Name: days_since_prior_order, dtype: float64"
      ]
     },
     "execution_count": 57,
     "metadata": {},
     "output_type": "execute_result"
    }
   ],
   "source": [
    "# making a dataframe of returning users, excluding their first order (because it will yield 'days_since_prior_order' == 0):\n",
    "returning_data = ic_orders.query(('user_id in @returning_users') and ('order_number > 1'))\n",
    "returning_data['days_since_prior_order'].describe()"
   ]
  },
  {
   "cell_type": "code",
   "execution_count": 58,
   "id": "ff3bec12",
   "metadata": {},
   "outputs": [
    {
     "data": {
      "image/png": "[encoded data removed]",
      "text/plain": [
       "<Figure size 800x400 with 1 Axes>"
      ]
     },
     "metadata": {},
     "output_type": "display_data"
    }
   ],
   "source": [
    "# plotting a histogram of the 'days_since_prior_order' column:\n",
    "plt.figure(figsize=(8,4))\n",
    "\n",
    "sns.histplot(\n",
    "    data=returning_data,\n",
    "    x='days_since_prior_order',\n",
    "    stat='count',\n",
    "    discrete=True\n",
    ")\n",
    "\n",
    "plt.title('Days between orders of returning users')\n",
    "plt.xlabel('Number of days between orders')\n",
    "plt.xticks(range(0,31), rotation=20)\n",
    "plt.ylabel('percent')\n",
    "plt.show()"
   ]
  },
  {
   "cell_type": "markdown",
   "id": "1231f13f",
   "metadata": {},
   "source": [
    "most people wait 30 days between orders, meaning they most likely make their large bulk purchase with instacart. This is also the longest it takes returning users to make another purchase. <br>\n",
    "second most common waiting period is 7 days, most likely a weekly bulk purchase. <br>\n",
    "Interesting to see there is a significant amount of users making 2 purchases on the same day. Can be that they forgot to order something. \n",
    "\n",
    "[Back to contents](#back)"
   ]
  },
  {
   "cell_type": "markdown",
   "id": "77aef304",
   "metadata": {},
   "source": [
    "#### 3.1.5 Conclusions <a id=easy_conclusions></a>"
   ]
  },
  {
   "cell_type": "markdown",
   "id": "f1e5028c",
   "metadata": {},
   "source": [
    "Both 'order_dow' and 'order_hour_of_day' from 'instacart_orders.csv' have sane values as described in the documentation.<br>\n",
    "Most active hours, with the most unique users placing orders are between 10h and 16h.<br>\n",
    "The most busy days on Instacart are Mondays and Tuesdays.<br>\n",
    "2 most common waiting periods between purchases of returning costumers are 30 and 7 days, logical cycles for regular bulk purchases. There is an interesting and significant amount of users ordering more than one order a day. Should be looked into what can explain these purchases, maybe instacart can offer a new service. \n",
    "\n",
    "[Back to contents](#back)"
   ]
  },
  {
   "cell_type": "markdown",
   "id": "3ee98cc9",
   "metadata": {},
   "source": [
    "#### 3.2.1 'order_hour_of_day' distributions on Wednesdays and Saturdays <a id=3_2_1>"
   ]
  },
  {
   "cell_type": "markdown",
   "id": "6bafa69f",
   "metadata": {},
   "source": [
    "Is there a difference in 'order_hour_of_day' distributions on Wednesdays and Saturdays? Plot the histograms for both days on the same plot and describe the differences that you see."
   ]
  },
  {
   "cell_type": "code",
   "execution_count": 59,
   "id": "72d3e491",
   "metadata": {},
   "outputs": [
    {
     "data": {
      "image/png": "[encoded data removed]",
      "text/plain": [
       "<Figure size 640x480 with 1 Axes>"
      ]
     },
     "metadata": {},
     "output_type": "display_data"
    }
   ],
   "source": [
    "# creating a helper dataframe of Wednesdays and Saturdays:\n",
    "sun_wed_df = ic_orders[(ic_orders['order_dow']=='Sunday')|(ic_orders['order_dow']=='Wednesday')]\n",
    "\n",
    "# plotting the requested visualization:\n",
    "sns.histplot(\n",
    "    data=sun_wed_df,\n",
    "    x='order_hour_of_day',\n",
    "    hue='order_dow',\n",
    "    palette='Paired',\n",
    "    discrete=True,\n",
    "    legend=True\n",
    ")\n",
    "plt.title('Comparison of order hour distribution')\n",
    "plt.xlabel('Hour of the day')\n",
    "plt.xticks(range(0, 23))\n",
    "plt.ylabel('Count')\n",
    "plt.legend(\n",
    "    labels=['Sunday', 'Wednesday'],\n",
    "    loc='upper right'\n",
    ")\n",
    "plt.show()"
   ]
  },
  {
   "cell_type": "markdown",
   "id": "066ca6cc",
   "metadata": {},
   "source": [
    "It looks that there is not much difference in the distribution between Sunday and Wednesday on Instacart. Wednesday has slightly more sales (as shown [HERE](#3_1_3)), and they condense more to working hours. But the trends are similar. \n",
    "\n",
    "[Back to contents](#back)"
   ]
  },
  {
   "cell_type": "markdown",
   "id": "6de2e38d",
   "metadata": {},
   "source": [
    "#### 3.2.2 Number of orders per customer <a id=3_2_2></a>"
   ]
  },
  {
   "cell_type": "markdown",
   "id": "47b0f195",
   "metadata": {},
   "source": [
    "Plot the distribution for the number of orders that customers place (e.g. how many customers placed only 1 order, how many placed only 2, how many only 3, and so on…)"
   ]
  },
  {
   "cell_type": "code",
   "execution_count": 60,
   "id": "b4eb6d8c",
   "metadata": {},
   "outputs": [
    {
     "data": {
      "text/html": [
       "<div>\n",
       "<style scoped>\n",
       "    .dataframe tbody tr th:only-of-type {\n",
       "        vertical-align: middle;\n",
       "    }\n",
       "\n",
       "    .dataframe tbody tr th {\n",
       "        vertical-align: top;\n",
       "    }\n",
       "\n",
       "    .dataframe thead th {\n",
       "        text-align: right;\n",
       "    }\n",
       "</style>\n",
       "<table border=\"1\" class=\"dataframe\">\n",
       "  <thead>\n",
       "    <tr style=\"text-align: right;\">\n",
       "      <th></th>\n",
       "      <th>number_of_orders</th>\n",
       "    </tr>\n",
       "    <tr>\n",
       "      <th>user_id</th>\n",
       "      <th></th>\n",
       "    </tr>\n",
       "  </thead>\n",
       "  <tbody>\n",
       "    <tr>\n",
       "      <th>2</th>\n",
       "      <td>4</td>\n",
       "    </tr>\n",
       "    <tr>\n",
       "      <th>4</th>\n",
       "      <td>6</td>\n",
       "    </tr>\n",
       "    <tr>\n",
       "      <th>5</th>\n",
       "      <td>4</td>\n",
       "    </tr>\n",
       "    <tr>\n",
       "      <th>6</th>\n",
       "      <td>4</td>\n",
       "    </tr>\n",
       "    <tr>\n",
       "      <th>7</th>\n",
       "      <td>19</td>\n",
       "    </tr>\n",
       "    <tr>\n",
       "      <th>...</th>\n",
       "      <td>...</td>\n",
       "    </tr>\n",
       "    <tr>\n",
       "      <th>206203</th>\n",
       "      <td>2</td>\n",
       "    </tr>\n",
       "    <tr>\n",
       "      <th>206206</th>\n",
       "      <td>66</td>\n",
       "    </tr>\n",
       "    <tr>\n",
       "      <th>206207</th>\n",
       "      <td>14</td>\n",
       "    </tr>\n",
       "    <tr>\n",
       "      <th>206208</th>\n",
       "      <td>34</td>\n",
       "    </tr>\n",
       "    <tr>\n",
       "      <th>206209</th>\n",
       "      <td>13</td>\n",
       "    </tr>\n",
       "  </tbody>\n",
       "</table>\n",
       "<p>157437 rows × 1 columns</p>\n",
       "</div>"
      ],
      "text/plain": [
       "        number_of_orders\n",
       "user_id                 \n",
       "2                      4\n",
       "4                      6\n",
       "5                      4\n",
       "6                      4\n",
       "7                     19\n",
       "...                  ...\n",
       "206203                 2\n",
       "206206                66\n",
       "206207                14\n",
       "206208                34\n",
       "206209                13\n",
       "\n",
       "[157437 rows x 1 columns]"
      ]
     },
     "execution_count": 60,
     "metadata": {},
     "output_type": "execute_result"
    }
   ],
   "source": [
    "# creating the helper dataframe, recording the max values of 'order number' per customer:\n",
    "user_order_num = ic_orders.pivot_table(\n",
    "    values='order_number',\n",
    "    index='user_id',\n",
    "    aggfunc='max')\n",
    "\n",
    "user_order_num.columns = ['number_of_orders']\n",
    "user_order_num"
   ]
  },
  {
   "cell_type": "code",
   "execution_count": 61,
   "id": "d267ac7c",
   "metadata": {},
   "outputs": [
    {
     "name": "stdout",
     "output_type": "stream",
     "text": [
      "number_of_orders    157437\n",
      "dtype: int64\n",
      "157437\n"
     ]
    }
   ],
   "source": [
    "# checking that the number of user IDs makes sense and I didn't lose data:\n",
    "print(user_order_num.count())\n",
    "print(ic_orders['user_id'].nunique())"
   ]
  },
  {
   "cell_type": "code",
   "execution_count": 62,
   "id": "1b8f1f1e",
   "metadata": {},
   "outputs": [
    {
     "data": {
      "image/png": "[encoded data removed]",
      "text/plain": [
       "<Figure size 640x480 with 1 Axes>"
      ]
     },
     "metadata": {},
     "output_type": "display_data"
    }
   ],
   "source": [
    "# plotting:\n",
    "sns.histplot(\n",
    "    data=user_order_num,\n",
    "    x='number_of_orders',\n",
    "    bins=35\n",
    ")\n",
    "plt.title('Distribution of order quantity')\n",
    "plt.xlabel('Number of orders per user')\n",
    "plt.ylabel('Count')\n",
    "plt.show()"
   ]
  },
  {
   "cell_type": "markdown",
   "id": "767b6e21",
   "metadata": {},
   "source": [
    "Most of the users have made less than 10 orders. \n",
    "\n",
    "[Back to contents](#back)"
   ]
  },
  {
   "cell_type": "markdown",
   "id": "b1da90c9",
   "metadata": {},
   "source": [
    "#### 3.2.3 What are the top 20 products? <a id=3_2_3></a>"
   ]
  },
  {
   "cell_type": "markdown",
   "id": "cfb38144",
   "metadata": {},
   "source": [
    "What are the top 20 products that are ordered most frequently (display their id and name)?"
   ]
  },
  {
   "cell_type": "code",
   "execution_count": 63,
   "id": "00115789",
   "metadata": {},
   "outputs": [
    {
     "data": {
      "text/html": [
       "<div>\n",
       "<style scoped>\n",
       "    .dataframe tbody tr th:only-of-type {\n",
       "        vertical-align: middle;\n",
       "    }\n",
       "\n",
       "    .dataframe tbody tr th {\n",
       "        vertical-align: top;\n",
       "    }\n",
       "\n",
       "    .dataframe thead th {\n",
       "        text-align: right;\n",
       "    }\n",
       "</style>\n",
       "<table border=\"1\" class=\"dataframe\">\n",
       "  <thead>\n",
       "    <tr style=\"text-align: right;\">\n",
       "      <th></th>\n",
       "      <th>order_id</th>\n",
       "      <th>product_id</th>\n",
       "      <th>add_to_cart_order</th>\n",
       "      <th>reordered</th>\n",
       "      <th>product_name</th>\n",
       "      <th>aisle_id</th>\n",
       "      <th>department_id</th>\n",
       "    </tr>\n",
       "  </thead>\n",
       "  <tbody>\n",
       "    <tr>\n",
       "      <th>0</th>\n",
       "      <td>2141543</td>\n",
       "      <td>11440</td>\n",
       "      <td>17.0</td>\n",
       "      <td>0</td>\n",
       "      <td>Chicken Breast Tenders Breaded</td>\n",
       "      <td>129</td>\n",
       "      <td>1</td>\n",
       "    </tr>\n",
       "    <tr>\n",
       "      <th>1</th>\n",
       "      <td>567889</td>\n",
       "      <td>1560</td>\n",
       "      <td>1.0</td>\n",
       "      <td>1</td>\n",
       "      <td>Bag Of Ice</td>\n",
       "      <td>37</td>\n",
       "      <td>1</td>\n",
       "    </tr>\n",
       "    <tr>\n",
       "      <th>2</th>\n",
       "      <td>2261212</td>\n",
       "      <td>26683</td>\n",
       "      <td>1.0</td>\n",
       "      <td>1</td>\n",
       "      <td>Cafe Latte Pure Lightly Sweetened Iced Coffee ...</td>\n",
       "      <td>91</td>\n",
       "      <td>16</td>\n",
       "    </tr>\n",
       "    <tr>\n",
       "      <th>3</th>\n",
       "      <td>491251</td>\n",
       "      <td>8670</td>\n",
       "      <td>35.0</td>\n",
       "      <td>1</td>\n",
       "      <td>Diced Tomatoes</td>\n",
       "      <td>81</td>\n",
       "      <td>15</td>\n",
       "    </tr>\n",
       "    <tr>\n",
       "      <th>4</th>\n",
       "      <td>2571142</td>\n",
       "      <td>1940</td>\n",
       "      <td>5.0</td>\n",
       "      <td>1</td>\n",
       "      <td>Organic 2% Reduced Fat Milk</td>\n",
       "      <td>84</td>\n",
       "      <td>16</td>\n",
       "    </tr>\n",
       "  </tbody>\n",
       "</table>\n",
       "</div>"
      ],
      "text/plain": [
       "  order_id product_id  add_to_cart_order  reordered  \\\n",
       "0  2141543      11440               17.0          0   \n",
       "1   567889       1560                1.0          1   \n",
       "2  2261212      26683                1.0          1   \n",
       "3   491251       8670               35.0          1   \n",
       "4  2571142       1940                5.0          1   \n",
       "\n",
       "                                        product_name aisle_id department_id  \n",
       "0                     Chicken Breast Tenders Breaded      129             1  \n",
       "1                                         Bag Of Ice       37             1  \n",
       "2  Cafe Latte Pure Lightly Sweetened Iced Coffee ...       91            16  \n",
       "3                                     Diced Tomatoes       81            15  \n",
       "4                        Organic 2% Reduced Fat Milk       84            16  "
      ]
     },
     "execution_count": 63,
     "metadata": {},
     "output_type": "execute_result"
    }
   ],
   "source": [
    "# joining the order_products.csv and products.csv to find the top 20 items:\n",
    "merged_op_prod = order_products.merge(products, how='left', on='product_id')\n",
    "merged_op_prod.head(5)"
   ]
  },
  {
   "cell_type": "code",
   "execution_count": 64,
   "id": "69652cf0",
   "metadata": {},
   "outputs": [
    {
     "data": {
      "text/html": [
       "<div>\n",
       "<style scoped>\n",
       "    .dataframe tbody tr th:only-of-type {\n",
       "        vertical-align: middle;\n",
       "    }\n",
       "\n",
       "    .dataframe tbody tr th {\n",
       "        vertical-align: top;\n",
       "    }\n",
       "\n",
       "    .dataframe thead th {\n",
       "        text-align: right;\n",
       "    }\n",
       "</style>\n",
       "<table border=\"1\" class=\"dataframe\">\n",
       "  <thead>\n",
       "    <tr style=\"text-align: right;\">\n",
       "      <th></th>\n",
       "      <th>product_id</th>\n",
       "      <th>product_name</th>\n",
       "    </tr>\n",
       "  </thead>\n",
       "  <tbody>\n",
       "    <tr>\n",
       "      <th>22332</th>\n",
       "      <td>24852</td>\n",
       "      <td>Banana</td>\n",
       "    </tr>\n",
       "    <tr>\n",
       "      <th>11772</th>\n",
       "      <td>13176</td>\n",
       "      <td>Bag of Organic Bananas</td>\n",
       "    </tr>\n",
       "    <tr>\n",
       "      <th>18970</th>\n",
       "      <td>21137</td>\n",
       "      <td>Organic Strawberries</td>\n",
       "    </tr>\n",
       "    <tr>\n",
       "      <th>19660</th>\n",
       "      <td>21903</td>\n",
       "      <td>Organic Baby Spinach</td>\n",
       "    </tr>\n",
       "    <tr>\n",
       "      <th>42362</th>\n",
       "      <td>47209</td>\n",
       "      <td>Organic Hass Avocado</td>\n",
       "    </tr>\n",
       "    <tr>\n",
       "      <th>42863</th>\n",
       "      <td>47766</td>\n",
       "      <td>Organic Avocado</td>\n",
       "    </tr>\n",
       "    <tr>\n",
       "      <th>42739</th>\n",
       "      <td>47626</td>\n",
       "      <td>Large Lemon</td>\n",
       "    </tr>\n",
       "    <tr>\n",
       "      <th>15037</th>\n",
       "      <td>16797</td>\n",
       "      <td>Strawberries</td>\n",
       "    </tr>\n",
       "    <tr>\n",
       "      <th>23546</th>\n",
       "      <td>26209</td>\n",
       "      <td>Limes</td>\n",
       "    </tr>\n",
       "    <tr>\n",
       "      <th>25022</th>\n",
       "      <td>27845</td>\n",
       "      <td>Organic Whole Milk</td>\n",
       "    </tr>\n",
       "    <tr>\n",
       "      <th>25129</th>\n",
       "      <td>27966</td>\n",
       "      <td>Organic Raspberries</td>\n",
       "    </tr>\n",
       "    <tr>\n",
       "      <th>20590</th>\n",
       "      <td>22935</td>\n",
       "      <td>Organic Yellow Onion</td>\n",
       "    </tr>\n",
       "    <tr>\n",
       "      <th>22431</th>\n",
       "      <td>24964</td>\n",
       "      <td>Organic Garlic</td>\n",
       "    </tr>\n",
       "    <tr>\n",
       "      <th>40374</th>\n",
       "      <td>45007</td>\n",
       "      <td>Organic Zucchini</td>\n",
       "    </tr>\n",
       "    <tr>\n",
       "      <th>35248</th>\n",
       "      <td>39275</td>\n",
       "      <td>Organic Blueberries</td>\n",
       "    </tr>\n",
       "    <tr>\n",
       "      <th>44601</th>\n",
       "      <td>49683</td>\n",
       "      <td>Cucumber Kirby</td>\n",
       "    </tr>\n",
       "    <tr>\n",
       "      <th>25345</th>\n",
       "      <td>28204</td>\n",
       "      <td>Organic Fuji Apple</td>\n",
       "    </tr>\n",
       "    <tr>\n",
       "      <th>5280</th>\n",
       "      <td>5876</td>\n",
       "      <td>Organic Lemon</td>\n",
       "    </tr>\n",
       "    <tr>\n",
       "      <th>7400</th>\n",
       "      <td>8277</td>\n",
       "      <td>Apple Honeycrisp Organic</td>\n",
       "    </tr>\n",
       "    <tr>\n",
       "      <th>36522</th>\n",
       "      <td>40706</td>\n",
       "      <td>Organic Grape Tomatoes</td>\n",
       "    </tr>\n",
       "  </tbody>\n",
       "</table>\n",
       "</div>"
      ],
      "text/plain": [
       "       product_id              product_name\n",
       "22332       24852                    Banana\n",
       "11772       13176    Bag of Organic Bananas\n",
       "18970       21137      Organic Strawberries\n",
       "19660       21903      Organic Baby Spinach\n",
       "42362       47209      Organic Hass Avocado\n",
       "42863       47766           Organic Avocado\n",
       "42739       47626               Large Lemon\n",
       "15037       16797              Strawberries\n",
       "23546       26209                     Limes\n",
       "25022       27845        Organic Whole Milk\n",
       "25129       27966       Organic Raspberries\n",
       "20590       22935      Organic Yellow Onion\n",
       "22431       24964            Organic Garlic\n",
       "40374       45007          Organic Zucchini\n",
       "35248       39275       Organic Blueberries\n",
       "44601       49683            Cucumber Kirby\n",
       "25345       28204        Organic Fuji Apple\n",
       "5280         5876             Organic Lemon\n",
       "7400         8277  Apple Honeycrisp Organic\n",
       "36522       40706    Organic Grape Tomatoes"
      ]
     },
     "execution_count": 64,
     "metadata": {},
     "output_type": "execute_result"
    }
   ],
   "source": [
    "# selecting top 20 most frequently ordered:\n",
    "top_20_list = merged_op_prod.groupby(['product_id', 'product_name']).agg(orders_count=('order_id', 'count')).reset_index()\n",
    "top_20_list.sort_values(by='orders_count', ascending=False, inplace=True)\n",
    "top_20_list[['product_id', 'product_name']].head(20)"
   ]
  },
  {
   "cell_type": "markdown",
   "id": "63326704",
   "metadata": {},
   "source": [
    "All the items in the top 20 products list are fresh produce - fruits and vegetables.\n",
    "\n",
    "[Back to contents](#back)"
   ]
  },
  {
   "cell_type": "markdown",
   "id": "963c0af6",
   "metadata": {},
   "source": [
    "#### 3.2.4 Conclusion <a id=medium_conclusions></a>"
   ]
  },
  {
   "cell_type": "markdown",
   "id": "3204b08e",
   "metadata": {},
   "source": [
    "Distribution of orders over the hours of the day on Sundays and Wednesdays is quite similar.<br>\n",
    "Most of the users have made less than 10 orders. <br>\n",
    "All the items in the top 20 products list are fresh produce - fruits and vegetables.\n",
    "\n",
    "[Back to contents](#back)"
   ]
  },
  {
   "cell_type": "markdown",
   "id": "c6a294af",
   "metadata": {},
   "source": [
    "### 3.3 Hard analysis <a id=hard_analysis></a>"
   ]
  },
  {
   "cell_type": "markdown",
   "id": "1dabdcc7",
   "metadata": {},
   "source": [
    "#### 3.3.1 How many items do people buy in one order? <a id=3_3_1></a>"
   ]
  },
  {
   "cell_type": "markdown",
   "id": "e8983d4c",
   "metadata": {},
   "source": [
    "How many items do people typically buy in one order? What does the distribution look like?"
   ]
  },
  {
   "cell_type": "code",
   "execution_count": 99,
   "id": "db78bfbf",
   "metadata": {},
   "outputs": [
    {
     "data": {
      "text/plain": [
       "count    450046.000000\n",
       "mean         10.098983\n",
       "std           7.540206\n",
       "min           1.000000\n",
       "25%           5.000000\n",
       "50%           8.000000\n",
       "75%          14.000000\n",
       "max         127.000000\n",
       "Name: number_of_items, dtype: float64"
      ]
     },
     "execution_count": 99,
     "metadata": {},
     "output_type": "execute_result"
    }
   ],
   "source": [
    "# counting number of products associated with one order_id in 'order_products.csv':\n",
    "items_per_order = order_products.groupby('order_id')['product_id'].count().reset_index()\n",
    "items_per_order.columns = ['order_id', 'number_of_items']\n",
    "items_per_order['number_of_items'].describe()"
   ]
  },
  {
   "cell_type": "code",
   "execution_count": 98,
   "id": "4677ca14",
   "metadata": {},
   "outputs": [
    {
     "data": {
      "image/png": "[encoded data removed]",
      "text/plain": [
       "<Figure size 640x480 with 1 Axes>"
      ]
     },
     "metadata": {},
     "output_type": "display_data"
    }
   ],
   "source": [
    "# plotting\n",
    "sns.histplot(data=items_per_order, \n",
    "             x='number_of_items', \n",
    "             binwidth=3, \n",
    ")\n",
    "\n",
    "plt.title('Order sizes on Instacart')\n",
    "plt.xlabel('No of Items in order')\n",
    "plt.xlim(0,50)\n",
    "plt.ylabel('count')\n",
    "plt.tight_layout()\n",
    "plt.show()"
   ]
  },
  {
   "cell_type": "markdown",
   "id": "977fa207",
   "metadata": {},
   "source": [
    "The average order size is 10 items, but that is skewed by some of the larger orders in our data. The median order is 8.<br>\n",
    "75% of all orders contain up to 14 items. Orders above 40 items exist, but are a very small percent of all orders. \n",
    "\n",
    "[Back to contents](#back)"
   ]
  },
  {
   "cell_type": "markdown",
   "id": "e6f8ce84",
   "metadata": {},
   "source": [
    "#### 3.3.2 What are the top 20 items that are reordered most frequently? <a id=3_3_2></a>"
   ]
  },
  {
   "cell_type": "markdown",
   "id": "9f65b993",
   "metadata": {},
   "source": [
    "What are the top 20 items that are reordered most frequently (display their names and product IDs)?"
   ]
  },
  {
   "cell_type": "code",
   "execution_count": 102,
   "id": "ab99ee8d",
   "metadata": {},
   "outputs": [
    {
     "data": {
      "text/html": [
       "<div>\n",
       "<style scoped>\n",
       "    .dataframe tbody tr th:only-of-type {\n",
       "        vertical-align: middle;\n",
       "    }\n",
       "\n",
       "    .dataframe tbody tr th {\n",
       "        vertical-align: top;\n",
       "    }\n",
       "\n",
       "    .dataframe thead th {\n",
       "        text-align: right;\n",
       "    }\n",
       "</style>\n",
       "<table border=\"1\" class=\"dataframe\">\n",
       "  <thead>\n",
       "    <tr style=\"text-align: right;\">\n",
       "      <th></th>\n",
       "      <th></th>\n",
       "      <th>times_reordered</th>\n",
       "    </tr>\n",
       "    <tr>\n",
       "      <th>product_id</th>\n",
       "      <th>product_name</th>\n",
       "      <th></th>\n",
       "    </tr>\n",
       "  </thead>\n",
       "  <tbody>\n",
       "    <tr>\n",
       "      <th>24852</th>\n",
       "      <th>Banana</th>\n",
       "      <td>55763</td>\n",
       "    </tr>\n",
       "    <tr>\n",
       "      <th>13176</th>\n",
       "      <th>Bag of Organic Bananas</th>\n",
       "      <td>44450</td>\n",
       "    </tr>\n",
       "    <tr>\n",
       "      <th>21137</th>\n",
       "      <th>Organic Strawberries</th>\n",
       "      <td>28639</td>\n",
       "    </tr>\n",
       "    <tr>\n",
       "      <th>21903</th>\n",
       "      <th>Organic Baby Spinach</th>\n",
       "      <td>26233</td>\n",
       "    </tr>\n",
       "    <tr>\n",
       "      <th>47209</th>\n",
       "      <th>Organic Hass Avocado</th>\n",
       "      <td>23629</td>\n",
       "    </tr>\n",
       "    <tr>\n",
       "      <th>47766</th>\n",
       "      <th>Organic Avocado</th>\n",
       "      <td>18743</td>\n",
       "    </tr>\n",
       "    <tr>\n",
       "      <th>27845</th>\n",
       "      <th>Organic Whole Milk</th>\n",
       "      <td>16251</td>\n",
       "    </tr>\n",
       "    <tr>\n",
       "      <th>47626</th>\n",
       "      <th>Large Lemon</th>\n",
       "      <td>15044</td>\n",
       "    </tr>\n",
       "    <tr>\n",
       "      <th>27966</th>\n",
       "      <th>Organic Raspberries</th>\n",
       "      <td>14748</td>\n",
       "    </tr>\n",
       "    <tr>\n",
       "      <th>16797</th>\n",
       "      <th>Strawberries</th>\n",
       "      <td>13945</td>\n",
       "    </tr>\n",
       "    <tr>\n",
       "      <th>26209</th>\n",
       "      <th>Limes</th>\n",
       "      <td>13327</td>\n",
       "    </tr>\n",
       "    <tr>\n",
       "      <th>22935</th>\n",
       "      <th>Organic Yellow Onion</th>\n",
       "      <td>11145</td>\n",
       "    </tr>\n",
       "    <tr>\n",
       "      <th>24964</th>\n",
       "      <th>Organic Garlic</th>\n",
       "      <td>10411</td>\n",
       "    </tr>\n",
       "    <tr>\n",
       "      <th>45007</th>\n",
       "      <th>Organic Zucchini</th>\n",
       "      <td>10076</td>\n",
       "    </tr>\n",
       "    <tr>\n",
       "      <th>49683</th>\n",
       "      <th>Cucumber Kirby</th>\n",
       "      <td>9538</td>\n",
       "    </tr>\n",
       "    <tr>\n",
       "      <th>28204</th>\n",
       "      <th>Organic Fuji Apple</th>\n",
       "      <td>8989</td>\n",
       "    </tr>\n",
       "    <tr>\n",
       "      <th>8277</th>\n",
       "      <th>Apple Honeycrisp Organic</th>\n",
       "      <td>8836</td>\n",
       "    </tr>\n",
       "    <tr>\n",
       "      <th>39275</th>\n",
       "      <th>Organic Blueberries</th>\n",
       "      <td>8799</td>\n",
       "    </tr>\n",
       "    <tr>\n",
       "      <th>5876</th>\n",
       "      <th>Organic Lemon</th>\n",
       "      <td>8412</td>\n",
       "    </tr>\n",
       "    <tr>\n",
       "      <th>49235</th>\n",
       "      <th>Organic Half &amp; Half</th>\n",
       "      <td>8389</td>\n",
       "    </tr>\n",
       "  </tbody>\n",
       "</table>\n",
       "</div>"
      ],
      "text/plain": [
       "                                     times_reordered\n",
       "product_id product_name                             \n",
       "24852      Banana                              55763\n",
       "13176      Bag of Organic Bananas              44450\n",
       "21137      Organic Strawberries                28639\n",
       "21903      Organic Baby Spinach                26233\n",
       "47209      Organic Hass Avocado                23629\n",
       "47766      Organic Avocado                     18743\n",
       "27845      Organic Whole Milk                  16251\n",
       "47626      Large Lemon                         15044\n",
       "27966      Organic Raspberries                 14748\n",
       "16797      Strawberries                        13945\n",
       "26209      Limes                               13327\n",
       "22935      Organic Yellow Onion                11145\n",
       "24964      Organic Garlic                      10411\n",
       "45007      Organic Zucchini                    10076\n",
       "49683      Cucumber Kirby                       9538\n",
       "28204      Organic Fuji Apple                   8989\n",
       "8277       Apple Honeycrisp Organic             8836\n",
       "39275      Organic Blueberries                  8799\n",
       "5876       Organic Lemon                        8412\n",
       "49235      Organic Half & Half                  8389"
      ]
     },
     "execution_count": 102,
     "metadata": {},
     "output_type": "execute_result"
    }
   ],
   "source": [
    "# I will use the existing 'merged_op_prod' DF to collect and count re-ordered items:\n",
    "re_orders = merged_op_prod[merged_op_prod['reordered']==1]\n",
    "count_reorders = re_orders.groupby(['product_id', 'product_name']).agg(times_reordered=('reordered', 'sum'))\n",
    "count_reorders.sort_values(by='times_reordered', inplace=True, ascending=False)\n",
    "count_reorders.head(20)"
   ]
  },
  {
   "cell_type": "markdown",
   "id": "f0966ec0",
   "metadata": {},
   "source": [
    "Above is the to 20 re-ordered items. Similar to the top 20 purchased items, all the items here are fresh produce, although not all top sellers are top re-orders. Lists are not identical in contents, and not all items share the same place on both lists even if present in both. \n",
    "\n",
    "[Back to contents](#back)"
   ]
  },
  {
   "cell_type": "markdown",
   "id": "8809fc07",
   "metadata": {},
   "source": [
    "#### 3.3.3 what proportion of products orders are reorders? <a id=3_3_3></a>"
   ]
  },
  {
   "cell_type": "markdown",
   "id": "18beac0e",
   "metadata": {},
   "source": [
    "For each product, what proportion of its orders are reorders (create a table with columns for the product ID, product name, and reorder proportion)?"
   ]
  },
  {
   "cell_type": "code",
   "execution_count": 117,
   "id": "a3afcfaa",
   "metadata": {},
   "outputs": [
    {
     "data": {
      "text/html": [
       "<div>\n",
       "<style scoped>\n",
       "    .dataframe tbody tr th:only-of-type {\n",
       "        vertical-align: middle;\n",
       "    }\n",
       "\n",
       "    .dataframe tbody tr th {\n",
       "        vertical-align: top;\n",
       "    }\n",
       "\n",
       "    .dataframe thead th {\n",
       "        text-align: right;\n",
       "    }\n",
       "</style>\n",
       "<table border=\"1\" class=\"dataframe\">\n",
       "  <thead>\n",
       "    <tr style=\"text-align: right;\">\n",
       "      <th></th>\n",
       "      <th>product_name</th>\n",
       "      <th>reordered_proportion(%)</th>\n",
       "    </tr>\n",
       "    <tr>\n",
       "      <th>product_id</th>\n",
       "      <th></th>\n",
       "      <th></th>\n",
       "    </tr>\n",
       "  </thead>\n",
       "  <tbody>\n",
       "    <tr>\n",
       "      <th>3903</th>\n",
       "      <td>Triple Nutrition Fortifying Shampoo For Dry &amp; ...</td>\n",
       "      <td>7.692308</td>\n",
       "    </tr>\n",
       "    <tr>\n",
       "      <th>5413</th>\n",
       "      <td>Enriched White Corn Meal</td>\n",
       "      <td>0.000000</td>\n",
       "    </tr>\n",
       "    <tr>\n",
       "      <th>21140</th>\n",
       "      <td>Grillers Cheddar Cheese &amp; Bacon Patties 6 Count</td>\n",
       "      <td>33.333333</td>\n",
       "    </tr>\n",
       "    <tr>\n",
       "      <th>36777</th>\n",
       "      <td>SweetLeaf Natural Stevia Sweetener Packets</td>\n",
       "      <td>60.000000</td>\n",
       "    </tr>\n",
       "    <tr>\n",
       "      <th>4722</th>\n",
       "      <td>Slow Churned French Vanilla Light Ice Cream</td>\n",
       "      <td>31.578947</td>\n",
       "    </tr>\n",
       "    <tr>\n",
       "      <th>10951</th>\n",
       "      <td>The Prisoner Blend</td>\n",
       "      <td>50.000000</td>\n",
       "    </tr>\n",
       "    <tr>\n",
       "      <th>45624</th>\n",
       "      <td>18 Month Limited Extra Sharp White Cheddar Cheese</td>\n",
       "      <td>60.000000</td>\n",
       "    </tr>\n",
       "    <tr>\n",
       "      <th>2426</th>\n",
       "      <td>Roasted Green Chile &amp; Jack Cheese Tamales</td>\n",
       "      <td>62.500000</td>\n",
       "    </tr>\n",
       "    <tr>\n",
       "      <th>22963</th>\n",
       "      <td>Organic Roasted Turkey Breast</td>\n",
       "      <td>66.666667</td>\n",
       "    </tr>\n",
       "    <tr>\n",
       "      <th>14569</th>\n",
       "      <td>Spring &amp; Renewal Febreeze Freshness Laundry De...</td>\n",
       "      <td>43.478261</td>\n",
       "    </tr>\n",
       "  </tbody>\n",
       "</table>\n",
       "</div>"
      ],
      "text/plain": [
       "                                                 product_name  \\\n",
       "product_id                                                      \n",
       "3903        Triple Nutrition Fortifying Shampoo For Dry & ...   \n",
       "5413                                 Enriched White Corn Meal   \n",
       "21140         Grillers Cheddar Cheese & Bacon Patties 6 Count   \n",
       "36777              SweetLeaf Natural Stevia Sweetener Packets   \n",
       "4722              Slow Churned French Vanilla Light Ice Cream   \n",
       "10951                                      The Prisoner Blend   \n",
       "45624       18 Month Limited Extra Sharp White Cheddar Cheese   \n",
       "2426                Roasted Green Chile & Jack Cheese Tamales   \n",
       "22963                           Organic Roasted Turkey Breast   \n",
       "14569       Spring & Renewal Febreeze Freshness Laundry De...   \n",
       "\n",
       "            reordered_proportion(%)  \n",
       "product_id                           \n",
       "3903                       7.692308  \n",
       "5413                       0.000000  \n",
       "21140                     33.333333  \n",
       "36777                     60.000000  \n",
       "4722                      31.578947  \n",
       "10951                     50.000000  \n",
       "45624                     60.000000  \n",
       "2426                      62.500000  \n",
       "22963                     66.666667  \n",
       "14569                     43.478261  "
      ]
     },
     "execution_count": 117,
     "metadata": {},
     "output_type": "execute_result"
    }
   ],
   "source": [
    "# I work with the already created 'merged_op_prod':\n",
    "\n",
    "re_order_proportion = merged_op_prod.groupby(['product_id', 'product_name']).agg(\n",
    "    total_ordered=('order_id', 'count'),\n",
    "    reordered=('reordered', 'sum')\n",
    ").reset_index()\n",
    "\n",
    "# adding a new column showing the proportion of re-ordered purchases from total purchases:\n",
    "re_order_proportion['reordered_proportion(%)'] = ((re_order_proportion['reordered'] / re_order_proportion['total_ordered']) * 100)\n",
    "\n",
    "# creating a display dataframe only with columns requested by the stakeholders:\n",
    "show_reorder_proportions = re_order_proportion[['product_id', 'product_name', 'reordered_proportion(%)']]\n",
    "show_reorder_proportions = show_reorder_proportions.set_index('product_id')\n",
    "show_reorder_proportions.sample(10)"
   ]
  },
  {
   "cell_type": "markdown",
   "id": "2a042b3d",
   "metadata": {},
   "source": [
    "Created the requested DF containing product ID, product name and the re-order proportion shown in percent.\n",
    "\n",
    "[Back to contents](#back)"
   ]
  },
  {
   "cell_type": "markdown",
   "id": "76b3654d",
   "metadata": {},
   "source": [
    "#### 3.3.4 proportion of products ordered reorders per customer <a id=3_3_4></a>"
   ]
  },
  {
   "cell_type": "markdown",
   "id": "bdcfa0f0",
   "metadata": {},
   "source": [
    "For each customer, what proportion of their products ordered are reorders?"
   ]
  },
  {
   "cell_type": "code",
   "execution_count": 119,
   "id": "e275f395",
   "metadata": {},
   "outputs": [
    {
     "data": {
      "text/html": [
       "<div>\n",
       "<style scoped>\n",
       "    .dataframe tbody tr th:only-of-type {\n",
       "        vertical-align: middle;\n",
       "    }\n",
       "\n",
       "    .dataframe tbody tr th {\n",
       "        vertical-align: top;\n",
       "    }\n",
       "\n",
       "    .dataframe thead th {\n",
       "        text-align: right;\n",
       "    }\n",
       "</style>\n",
       "<table border=\"1\" class=\"dataframe\">\n",
       "  <thead>\n",
       "    <tr style=\"text-align: right;\">\n",
       "      <th></th>\n",
       "      <th>user_id</th>\n",
       "      <th>reordered_proportion(%)</th>\n",
       "    </tr>\n",
       "  </thead>\n",
       "  <tbody>\n",
       "    <tr>\n",
       "      <th>44127</th>\n",
       "      <td>60991</td>\n",
       "      <td>100.000000</td>\n",
       "    </tr>\n",
       "    <tr>\n",
       "      <th>10342</th>\n",
       "      <td>14197</td>\n",
       "      <td>37.500000</td>\n",
       "    </tr>\n",
       "    <tr>\n",
       "      <th>43815</th>\n",
       "      <td>60562</td>\n",
       "      <td>53.333333</td>\n",
       "    </tr>\n",
       "    <tr>\n",
       "      <th>20100</th>\n",
       "      <td>27717</td>\n",
       "      <td>22.222222</td>\n",
       "    </tr>\n",
       "    <tr>\n",
       "      <th>53959</th>\n",
       "      <td>74466</td>\n",
       "      <td>45.454545</td>\n",
       "    </tr>\n",
       "    <tr>\n",
       "      <th>146961</th>\n",
       "      <td>202503</td>\n",
       "      <td>100.000000</td>\n",
       "    </tr>\n",
       "    <tr>\n",
       "      <th>79743</th>\n",
       "      <td>109956</td>\n",
       "      <td>40.000000</td>\n",
       "    </tr>\n",
       "    <tr>\n",
       "      <th>109356</th>\n",
       "      <td>150984</td>\n",
       "      <td>66.666667</td>\n",
       "    </tr>\n",
       "    <tr>\n",
       "      <th>116445</th>\n",
       "      <td>160636</td>\n",
       "      <td>87.500000</td>\n",
       "    </tr>\n",
       "    <tr>\n",
       "      <th>45678</th>\n",
       "      <td>63147</td>\n",
       "      <td>26.190476</td>\n",
       "    </tr>\n",
       "  </tbody>\n",
       "</table>\n",
       "</div>"
      ],
      "text/plain": [
       "        user_id  reordered_proportion(%)\n",
       "44127     60991               100.000000\n",
       "10342     14197                37.500000\n",
       "43815     60562                53.333333\n",
       "20100     27717                22.222222\n",
       "53959     74466                45.454545\n",
       "146961   202503               100.000000\n",
       "79743    109956                40.000000\n",
       "109356   150984                66.666667\n",
       "116445   160636                87.500000\n",
       "45678     63147                26.190476"
      ]
     },
     "execution_count": 119,
     "metadata": {},
     "output_type": "execute_result"
    }
   ],
   "source": [
    "# creating a DF merging 'instacart_orders.csv' and 'order_products.csv' containing the data needed for the calculations:\n",
    "merged_icorders_op = order_products.merge(ic_orders[['user_id', 'order_id']], on='order_id')\n",
    "\n",
    "# grouping the information and creating the new column with the re-order proportion:\n",
    "reorder_per_user = merged_icorders_op.groupby('user_id').agg(\n",
    "    total_purchased=('product_id', 'count'),\n",
    "    total_reordered=('reordered', 'sum'),\n",
    ").reset_index()\n",
    "\n",
    "reorder_per_user['reordered_proportion(%)'] = ((reorder_per_user['total_reordered'] / reorder_per_user['total_purchased'])*100)\n",
    "\n",
    "# creating a clean DF for display:\n",
    "show_customer_proportion = reorder_per_user[['user_id', 'reordered_proportion(%)']]\n",
    "show_customer_proportion.sample(10)"
   ]
  },
  {
   "cell_type": "markdown",
   "id": "24257e56",
   "metadata": {},
   "source": [
    "Created the requested DF containing User ID and the re-order proportion shown in percent.\n",
    "\n",
    "[Back to contents](#back)"
   ]
  },
  {
   "cell_type": "markdown",
   "id": "c44c29d3",
   "metadata": {},
   "source": [
    "#### 3.3.5 What are the top 20 items that people put in their carts first? <a id=3_3_5></a>"
   ]
  },
  {
   "cell_type": "markdown",
   "id": "5d2ca28a",
   "metadata": {},
   "source": [
    "What are the top 20 items that people put in their carts first (display the product IDs, product names, and number of times they were the first item added to the cart)?"
   ]
  },
  {
   "cell_type": "code",
   "execution_count": 124,
   "id": "cb08cc3a",
   "metadata": {},
   "outputs": [
    {
     "data": {
      "text/html": [
       "<div>\n",
       "<style scoped>\n",
       "    .dataframe tbody tr th:only-of-type {\n",
       "        vertical-align: middle;\n",
       "    }\n",
       "\n",
       "    .dataframe tbody tr th {\n",
       "        vertical-align: top;\n",
       "    }\n",
       "\n",
       "    .dataframe thead th {\n",
       "        text-align: right;\n",
       "    }\n",
       "</style>\n",
       "<table border=\"1\" class=\"dataframe\">\n",
       "  <thead>\n",
       "    <tr style=\"text-align: right;\">\n",
       "      <th></th>\n",
       "      <th>product_id</th>\n",
       "      <th>product_name</th>\n",
       "      <th>was_first_counter</th>\n",
       "    </tr>\n",
       "  </thead>\n",
       "  <tbody>\n",
       "    <tr>\n",
       "      <th>0</th>\n",
       "      <td>24852</td>\n",
       "      <td>Banana</td>\n",
       "      <td>15562.0</td>\n",
       "    </tr>\n",
       "    <tr>\n",
       "      <th>1</th>\n",
       "      <td>13176</td>\n",
       "      <td>Bag of Organic Bananas</td>\n",
       "      <td>11026.0</td>\n",
       "    </tr>\n",
       "    <tr>\n",
       "      <th>2</th>\n",
       "      <td>27845</td>\n",
       "      <td>Organic Whole Milk</td>\n",
       "      <td>4363.0</td>\n",
       "    </tr>\n",
       "    <tr>\n",
       "      <th>3</th>\n",
       "      <td>21137</td>\n",
       "      <td>Organic Strawberries</td>\n",
       "      <td>3946.0</td>\n",
       "    </tr>\n",
       "    <tr>\n",
       "      <th>4</th>\n",
       "      <td>47209</td>\n",
       "      <td>Organic Hass Avocado</td>\n",
       "      <td>3390.0</td>\n",
       "    </tr>\n",
       "    <tr>\n",
       "      <th>5</th>\n",
       "      <td>21903</td>\n",
       "      <td>Organic Baby Spinach</td>\n",
       "      <td>3336.0</td>\n",
       "    </tr>\n",
       "    <tr>\n",
       "      <th>6</th>\n",
       "      <td>47766</td>\n",
       "      <td>Organic Avocado</td>\n",
       "      <td>3044.0</td>\n",
       "    </tr>\n",
       "    <tr>\n",
       "      <th>7</th>\n",
       "      <td>19660</td>\n",
       "      <td>Spring Water</td>\n",
       "      <td>2336.0</td>\n",
       "    </tr>\n",
       "    <tr>\n",
       "      <th>8</th>\n",
       "      <td>16797</td>\n",
       "      <td>Strawberries</td>\n",
       "      <td>2308.0</td>\n",
       "    </tr>\n",
       "    <tr>\n",
       "      <th>9</th>\n",
       "      <td>27966</td>\n",
       "      <td>Organic Raspberries</td>\n",
       "      <td>2024.0</td>\n",
       "    </tr>\n",
       "    <tr>\n",
       "      <th>10</th>\n",
       "      <td>44632</td>\n",
       "      <td>Sparkling Water Grapefruit</td>\n",
       "      <td>1914.0</td>\n",
       "    </tr>\n",
       "    <tr>\n",
       "      <th>11</th>\n",
       "      <td>49235</td>\n",
       "      <td>Organic Half &amp; Half</td>\n",
       "      <td>1797.0</td>\n",
       "    </tr>\n",
       "    <tr>\n",
       "      <th>12</th>\n",
       "      <td>47626</td>\n",
       "      <td>Large Lemon</td>\n",
       "      <td>1737.0</td>\n",
       "    </tr>\n",
       "    <tr>\n",
       "      <th>13</th>\n",
       "      <td>196</td>\n",
       "      <td>Soda</td>\n",
       "      <td>1733.0</td>\n",
       "    </tr>\n",
       "    <tr>\n",
       "      <th>14</th>\n",
       "      <td>38689</td>\n",
       "      <td>Organic Reduced Fat Milk</td>\n",
       "      <td>1397.0</td>\n",
       "    </tr>\n",
       "    <tr>\n",
       "      <th>15</th>\n",
       "      <td>26209</td>\n",
       "      <td>Limes</td>\n",
       "      <td>1370.0</td>\n",
       "    </tr>\n",
       "    <tr>\n",
       "      <th>16</th>\n",
       "      <td>12341</td>\n",
       "      <td>Hass Avocados</td>\n",
       "      <td>1340.0</td>\n",
       "    </tr>\n",
       "    <tr>\n",
       "      <th>17</th>\n",
       "      <td>5785</td>\n",
       "      <td>Organic Reduced Fat 2% Milk</td>\n",
       "      <td>1310.0</td>\n",
       "    </tr>\n",
       "    <tr>\n",
       "      <th>18</th>\n",
       "      <td>27086</td>\n",
       "      <td>Half &amp; Half</td>\n",
       "      <td>1309.0</td>\n",
       "    </tr>\n",
       "    <tr>\n",
       "      <th>19</th>\n",
       "      <td>22935</td>\n",
       "      <td>Organic Yellow Onion</td>\n",
       "      <td>1246.0</td>\n",
       "    </tr>\n",
       "  </tbody>\n",
       "</table>\n",
       "</div>"
      ],
      "text/plain": [
       "    product_id                 product_name  was_first_counter\n",
       "0        24852                       Banana            15562.0\n",
       "1        13176       Bag of Organic Bananas            11026.0\n",
       "2        27845           Organic Whole Milk             4363.0\n",
       "3        21137         Organic Strawberries             3946.0\n",
       "4        47209         Organic Hass Avocado             3390.0\n",
       "5        21903         Organic Baby Spinach             3336.0\n",
       "6        47766              Organic Avocado             3044.0\n",
       "7        19660                 Spring Water             2336.0\n",
       "8        16797                 Strawberries             2308.0\n",
       "9        27966          Organic Raspberries             2024.0\n",
       "10       44632   Sparkling Water Grapefruit             1914.0\n",
       "11       49235          Organic Half & Half             1797.0\n",
       "12       47626                  Large Lemon             1737.0\n",
       "13         196                         Soda             1733.0\n",
       "14       38689     Organic Reduced Fat Milk             1397.0\n",
       "15       26209                        Limes             1370.0\n",
       "16       12341                Hass Avocados             1340.0\n",
       "17        5785  Organic Reduced Fat 2% Milk             1310.0\n",
       "18       27086                  Half & Half             1309.0\n",
       "19       22935         Organic Yellow Onion             1246.0"
      ]
     },
     "execution_count": 124,
     "metadata": {},
     "output_type": "execute_result"
    }
   ],
   "source": [
    "# collecting all the first items to be added to orders:\n",
    "first_items = merged_op_prod[merged_op_prod['add_to_cart_order']==1]\n",
    "\n",
    "# using groupby 'product_id' and 'product_name', aggregating by summing the 'add_to_cart_order' (the only value is 1), producing the requested DF:\n",
    "first_time_counter = first_items.groupby(['product_id', 'product_name']).agg(was_first_counter=('add_to_cart_order', 'sum')).reset_index()\n",
    "first_time_counter.sort_values(by='was_first_counter', ascending=False, inplace=True, ignore_index=True)\n",
    "first_time_counter.head(20)"
   ]
  },
  {
   "cell_type": "markdown",
   "id": "8f235437",
   "metadata": {},
   "source": [
    "Created requested list. <br>\n",
    "Most of the list is again fresh produce, but this time we can see dairy, water and soda in it as well.<br>\n",
    "The First 2 items, Bananas and Organic bananas are first in more than 15K and 11k purchases respectively. Third item on the list - Whole milk, is first only 4K times.\n",
    "\n",
    "[Back to contents](#back)"
   ]
  },
  {
   "cell_type": "markdown",
   "id": "61d2b6f9",
   "metadata": {},
   "source": [
    "#### 3.3.6 Conclusions <id a=hard_conclusions></a>"
   ]
  },
  {
   "cell_type": "markdown",
   "id": "5643bc2e",
   "metadata": {},
   "source": [
    "The average order size is 10 items. The median order is 8. 75% of all orders contain up to 14 items.<br>\n",
    "List of top 20 most re-ordered items also contains only fresh produce, similar to top best selling but not identical.<br>\n",
    "Created the requested DF containing product ID, product name and the re-order proportion shown in percent.<br>\n",
    "Created the requested DF containing User ID and the re-order proportion shown in percent.<br>\n",
    "Top 20 first items in order are mostly fresh produce, and we can see dairy, water and soda in it as well. The First 2 items, Bananas and Organic bananas are first in more than 15K and 11k purchases respectively. Third item on the list - Whole milk, is first only 4K times.\n",
    "\n",
    "[Back to contents](#back)"
   ]
  },
  {
   "cell_type": "markdown",
   "id": "14a1697c",
   "metadata": {},
   "source": [
    "### 3.4 Conclusions <a id=analysis_conclusions></a>"
   ]
  },
  {
   "cell_type": "markdown",
   "id": "daa7ab83",
   "metadata": {},
   "source": [
    "The Instacart data shows clear shopping patterns worth noting. Orders peak between 10am-4pm, with Mondays and Tuesdays being busiest. Most customers shop in predictable 7-day or 30-day cycles, but there's a surprising number of same-day multiple orders that could be an opportunity for a new service feature.<br>\n",
    "Fresh produce dominates across all metrics - top sellers, most reordered items, and first items added to carts. Bananas (regular and organic) stand out dramatically as cart starters, appearing first in 15K and 11K orders respectively, while milk ranks third at only 4K. The typical order has 10 items, with most orders (75%) containing 14 items or fewer.<br>\n",
    "Based on these findings, Instacart should focus on produce quality, develop solutions for customers who order multiple times per day, and optimize their platform for the identified peak times and order patterns.\n",
    "\n",
    "[Back to contents](#back)"
   ]
  }
 ],
 "metadata": {
  "kernelspec": {
   "display_name": "base",
   "language": "python",
   "name": "python3"
  },
  "language_info": {
   "codemirror_mode": {
    "name": "ipython",
    "version": 3
   },
   "file_extension": ".py",
   "mimetype": "text/x-python",
   "name": "python",
   "nbconvert_exporter": "python",
   "pygments_lexer": "ipython3",
   "version": "3.12.7"
  }
 },
 "nbformat": 4,
 "nbformat_minor": 5
}
